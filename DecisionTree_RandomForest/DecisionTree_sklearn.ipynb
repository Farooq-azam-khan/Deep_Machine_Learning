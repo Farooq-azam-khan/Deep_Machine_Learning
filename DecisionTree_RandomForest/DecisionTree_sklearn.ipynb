{
 "cells": [
  {
   "cell_type": "code",
   "execution_count": 105,
   "metadata": {},
   "outputs": [],
   "source": [
    "import pandas as pd\n",
    "import datetime"
   ]
  },
  {
   "cell_type": "code",
   "execution_count": 320,
   "metadata": {},
   "outputs": [],
   "source": [
    "#Visualization\n",
    "import matplotlib as mpl\n",
    "import matplotlib.pyplot as plt\n",
    "import matplotlib.pylab as pylab\n",
    "import seaborn as sns\n",
    "from pandas.tools.plotting import scatter_matrix\n",
    "\n",
    "#Configure Visualization Defaults\n",
    "# %matplotlib inline = show plots in Jupyter Notebook browser\n",
    "%matplotlib inline\n",
    "mpl.style.use('ggplot')\n",
    "sns.set_style('white')\n",
    "pylab.rcParams['figure.figsize'] = 12,8"
   ]
  },
  {
   "cell_type": "code",
   "execution_count": 314,
   "metadata": {},
   "outputs": [],
   "source": [
    "from sklearn import tree, ensemble\n",
    "\n",
    "from sklearn import metrics\n",
    "from sklearn import model_selection\n",
    "from sklearn import cross_validation\n",
    "from sklearn import feature_selection"
   ]
  },
  {
   "cell_type": "code",
   "execution_count": 3,
   "metadata": {},
   "outputs": [],
   "source": [
    "# data \n",
    "data = pd.read_csv(\"./data/melb_data.csv\")"
   ]
  },
  {
   "cell_type": "code",
   "execution_count": 6,
   "metadata": {},
   "outputs": [
    {
     "name": "stdout",
     "output_type": "stream",
     "text": [
      "<class 'pandas.core.frame.DataFrame'>\n",
      "RangeIndex: 13580 entries, 0 to 13579\n",
      "Data columns (total 21 columns):\n",
      "Suburb           13580 non-null object\n",
      "Address          13580 non-null object\n",
      "Rooms            13580 non-null int64\n",
      "Type             13580 non-null object\n",
      "Price            13580 non-null float64\n",
      "Method           13580 non-null object\n",
      "SellerG          13580 non-null object\n",
      "Date             13580 non-null object\n",
      "Distance         13580 non-null float64\n",
      "Postcode         13580 non-null float64\n",
      "Bedroom2         13580 non-null float64\n",
      "Bathroom         13580 non-null float64\n",
      "Car              13518 non-null float64\n",
      "Landsize         13580 non-null float64\n",
      "BuildingArea     7130 non-null float64\n",
      "YearBuilt        8205 non-null float64\n",
      "CouncilArea      12211 non-null object\n",
      "Lattitude        13580 non-null float64\n",
      "Longtitude       13580 non-null float64\n",
      "Regionname       13580 non-null object\n",
      "Propertycount    13580 non-null float64\n",
      "dtypes: float64(12), int64(1), object(8)\n",
      "memory usage: 2.2+ MB\n",
      "None\n"
     ]
    }
   ],
   "source": [
    "print(data.info())"
   ]
  },
  {
   "cell_type": "code",
   "execution_count": 4,
   "metadata": {},
   "outputs": [
    {
     "name": "stdout",
     "output_type": "stream",
     "text": [
      "       Suburb           Address  Rooms Type      Price Method SellerG  \\\n",
      "0  Abbotsford      85 Turner St      2    h  1480000.0      S  Biggin   \n",
      "1  Abbotsford   25 Bloomburg St      2    h  1035000.0      S  Biggin   \n",
      "2  Abbotsford      5 Charles St      3    h  1465000.0     SP  Biggin   \n",
      "3  Abbotsford  40 Federation La      3    h   850000.0     PI  Biggin   \n",
      "4  Abbotsford       55a Park St      4    h  1600000.0     VB  Nelson   \n",
      "\n",
      "        Date  Distance  Postcode      ...       Bathroom  Car  Landsize  \\\n",
      "0  3/12/2016       2.5    3067.0      ...            1.0  1.0     202.0   \n",
      "1  4/02/2016       2.5    3067.0      ...            1.0  0.0     156.0   \n",
      "2  4/03/2017       2.5    3067.0      ...            2.0  0.0     134.0   \n",
      "3  4/03/2017       2.5    3067.0      ...            2.0  1.0      94.0   \n",
      "4  4/06/2016       2.5    3067.0      ...            1.0  2.0     120.0   \n",
      "\n",
      "   BuildingArea  YearBuilt  CouncilArea Lattitude  Longtitude  \\\n",
      "0           NaN        NaN        Yarra  -37.7996    144.9984   \n",
      "1          79.0     1900.0        Yarra  -37.8079    144.9934   \n",
      "2         150.0     1900.0        Yarra  -37.8093    144.9944   \n",
      "3           NaN        NaN        Yarra  -37.7969    144.9969   \n",
      "4         142.0     2014.0        Yarra  -37.8072    144.9941   \n",
      "\n",
      "              Regionname Propertycount  \n",
      "0  Northern Metropolitan        4019.0  \n",
      "1  Northern Metropolitan        4019.0  \n",
      "2  Northern Metropolitan        4019.0  \n",
      "3  Northern Metropolitan        4019.0  \n",
      "4  Northern Metropolitan        4019.0  \n",
      "\n",
      "[5 rows x 21 columns]\n"
     ]
    }
   ],
   "source": [
    "print(data.head())"
   ]
  },
  {
   "cell_type": "code",
   "execution_count": 5,
   "metadata": {},
   "outputs": [
    {
     "name": "stdout",
     "output_type": "stream",
     "text": [
      "              Rooms         Price      Distance      Postcode      Bedroom2  \\\n",
      "count  13580.000000  1.358000e+04  13580.000000  13580.000000  13580.000000   \n",
      "mean       2.937997  1.075684e+06     10.137776   3105.301915      2.914728   \n",
      "std        0.955748  6.393107e+05      5.868725     90.676964      0.965921   \n",
      "min        1.000000  8.500000e+04      0.000000   3000.000000      0.000000   \n",
      "25%        2.000000  6.500000e+05      6.100000   3044.000000      2.000000   \n",
      "50%        3.000000  9.030000e+05      9.200000   3084.000000      3.000000   \n",
      "75%        3.000000  1.330000e+06     13.000000   3148.000000      3.000000   \n",
      "max       10.000000  9.000000e+06     48.100000   3977.000000     20.000000   \n",
      "\n",
      "           Bathroom           Car       Landsize  BuildingArea    YearBuilt  \\\n",
      "count  13580.000000  13518.000000   13580.000000   7130.000000  8205.000000   \n",
      "mean       1.534242      1.610075     558.416127    151.967650  1964.684217   \n",
      "std        0.691712      0.962634    3990.669241    541.014538    37.273762   \n",
      "min        0.000000      0.000000       0.000000      0.000000  1196.000000   \n",
      "25%        1.000000      1.000000     177.000000     93.000000  1940.000000   \n",
      "50%        1.000000      2.000000     440.000000    126.000000  1970.000000   \n",
      "75%        2.000000      2.000000     651.000000    174.000000  1999.000000   \n",
      "max        8.000000     10.000000  433014.000000  44515.000000  2018.000000   \n",
      "\n",
      "          Lattitude    Longtitude  Propertycount  \n",
      "count  13580.000000  13580.000000   13580.000000  \n",
      "mean     -37.809203    144.995216    7454.417378  \n",
      "std        0.079260      0.103916    4378.581772  \n",
      "min      -38.182550    144.431810     249.000000  \n",
      "25%      -37.856822    144.929600    4380.000000  \n",
      "50%      -37.802355    145.000100    6555.000000  \n",
      "75%      -37.756400    145.058305   10331.000000  \n",
      "max      -37.408530    145.526350   21650.000000  \n"
     ]
    }
   ],
   "source": [
    "print(data.describe())"
   ]
  },
  {
   "cell_type": "code",
   "execution_count": 97,
   "metadata": {},
   "outputs": [],
   "source": [
    "seller_g = data['SellerG'].unique().tolist()\n",
    "# print(seller_g)\n",
    "for sg in seller_g:\n",
    "    data[sg] = data['SellerG'].map(lambda x: 1 if x==sg else 0)"
   ]
  },
  {
   "cell_type": "code",
   "execution_count": 98,
   "metadata": {},
   "outputs": [
    {
     "name": "stdout",
     "output_type": "stream",
     "text": [
      "   Biggin  Nelson  Jellis  Greg  LITTLE  Collins  Kay  Beller  Marshall  Brad  \\\n",
      "0       1       0       0     0       0        0    0       0         0     0   \n",
      "1       1       0       0     0       0        0    0       0         0     0   \n",
      "2       1       0       0     0       0        0    0       0         0     0   \n",
      "3       1       0       0     0       0        0    0       0         0     0   \n",
      "4       0       1       0     0       0        0    0       0         0     0   \n",
      "\n",
      "   ...    Roger  Follett  Le  Joseph  Boutique  Area  SN  PRD  Rexhepi  Point  \n",
      "0  ...        0        0   0       0         0     0   0    0        0      0  \n",
      "1  ...        0        0   0       0         0     0   0    0        0      0  \n",
      "2  ...        0        0   0       0         0     0   0    0        0      0  \n",
      "3  ...        0        0   0       0         0     0   0    0        0      0  \n",
      "4  ...        0        0   0       0         0     0   0    0        0      0  \n",
      "\n",
      "[5 rows x 268 columns]\n",
      "             Biggin        Nelson        Jellis          Greg        LITTLE  \\\n",
      "count  13580.000000  13580.000000  13580.000000  13580.000000  13580.000000   \n",
      "mean       0.028940      0.115243      0.096907      0.017599      0.002577   \n",
      "std        0.167643      0.319327      0.295842      0.131495      0.050704   \n",
      "min        0.000000      0.000000      0.000000      0.000000      0.000000   \n",
      "25%        0.000000      0.000000      0.000000      0.000000      0.000000   \n",
      "50%        0.000000      0.000000      0.000000      0.000000      0.000000   \n",
      "75%        0.000000      0.000000      0.000000      0.000000      0.000000   \n",
      "max        1.000000      1.000000      1.000000      1.000000      1.000000   \n",
      "\n",
      "            Collins           Kay        Beller      Marshall          Brad  \\\n",
      "count  13580.000000  13580.000000  13580.000000  13580.000000  13580.000000   \n",
      "mean       0.004124      0.008763      0.001399      0.048527      0.025184   \n",
      "std        0.064086      0.093203      0.037380      0.214885      0.156690   \n",
      "min        0.000000      0.000000      0.000000      0.000000      0.000000   \n",
      "25%        0.000000      0.000000      0.000000      0.000000      0.000000   \n",
      "50%        0.000000      0.000000      0.000000      0.000000      0.000000   \n",
      "75%        0.000000      0.000000      0.000000      0.000000      0.000000   \n",
      "max        1.000000      1.000000      1.000000      1.000000      1.000000   \n",
      "\n",
      "           ...              Roger       Follett            Le        Joseph  \\\n",
      "count      ...       13580.000000  13580.000000  13580.000000  13580.000000   \n",
      "mean       ...           0.000074      0.000074      0.000074      0.000074   \n",
      "std        ...           0.008581      0.008581      0.008581      0.008581   \n",
      "min        ...           0.000000      0.000000      0.000000      0.000000   \n",
      "25%        ...           0.000000      0.000000      0.000000      0.000000   \n",
      "50%        ...           0.000000      0.000000      0.000000      0.000000   \n",
      "75%        ...           0.000000      0.000000      0.000000      0.000000   \n",
      "max        ...           1.000000      1.000000      1.000000      1.000000   \n",
      "\n",
      "           Boutique          Area            SN           PRD       Rexhepi  \\\n",
      "count  13580.000000  13580.000000  13580.000000  13580.000000  13580.000000   \n",
      "mean       0.000074      0.000074      0.000074      0.000074      0.000074   \n",
      "std        0.008581      0.008581      0.008581      0.008581      0.008581   \n",
      "min        0.000000      0.000000      0.000000      0.000000      0.000000   \n",
      "25%        0.000000      0.000000      0.000000      0.000000      0.000000   \n",
      "50%        0.000000      0.000000      0.000000      0.000000      0.000000   \n",
      "75%        0.000000      0.000000      0.000000      0.000000      0.000000   \n",
      "max        1.000000      1.000000      1.000000      1.000000      1.000000   \n",
      "\n",
      "              Point  \n",
      "count  13580.000000  \n",
      "mean       0.000074  \n",
      "std        0.008581  \n",
      "min        0.000000  \n",
      "25%        0.000000  \n",
      "50%        0.000000  \n",
      "75%        0.000000  \n",
      "max        1.000000  \n",
      "\n",
      "[8 rows x 268 columns]\n"
     ]
    }
   ],
   "source": [
    "print(data[seller_g].head())\n",
    "print(data[seller_g].describe())"
   ]
  },
  {
   "cell_type": "code",
   "execution_count": 21,
   "metadata": {},
   "outputs": [
    {
     "name": "stdout",
     "output_type": "stream",
     "text": [
      "Data with Null Fields\n",
      "Suburb              0\n",
      "Address             0\n",
      "Rooms               0\n",
      "Type                0\n",
      "Price               0\n",
      "Method              0\n",
      "SellerG             0\n",
      "Date                0\n",
      "Distance            0\n",
      "Postcode            0\n",
      "Bedroom2            0\n",
      "Bathroom            0\n",
      "Car                62\n",
      "Landsize            0\n",
      "BuildingArea     6450\n",
      "YearBuilt        5375\n",
      "CouncilArea      1369\n",
      "Lattitude           0\n",
      "Longtitude          0\n",
      "Regionname          0\n",
      "Propertycount       0\n",
      "dtype: int64\n"
     ]
    }
   ],
   "source": [
    "print(\"Data with Null Fields\")\n",
    "print(data.isnull().sum())\n",
    "null_columns = []\n",
    "for col in data.columns.tolist():\n",
    "    if data[col].isnull().sum():\n",
    "        null_columns.append(col)"
   ]
  },
  {
   "cell_type": "code",
   "execution_count": 22,
   "metadata": {},
   "outputs": [
    {
     "name": "stdout",
     "output_type": "stream",
     "text": [
      "['Car', 'BuildingArea', 'YearBuilt', 'CouncilArea']\n"
     ]
    }
   ],
   "source": [
    "print(null_columns)"
   ]
  },
  {
   "cell_type": "code",
   "execution_count": 67,
   "metadata": {},
   "outputs": [],
   "source": [
    "suburbs = data['Suburb'].unique().tolist()\n",
    "# print(suburbs)\n",
    "for suburb in suburbs:\n",
    "    data[suburb] = data['Suburb'].map(lambda x: 1 if x==suburb else 0)"
   ]
  },
  {
   "cell_type": "code",
   "execution_count": 68,
   "metadata": {},
   "outputs": [
    {
     "name": "stdout",
     "output_type": "stream",
     "text": [
      "   Abbotsford  Airport West  Albert Park  Alphington  Altona  Altona North  \\\n",
      "0           1             0            0           0       0             0   \n",
      "1           1             0            0           0       0             0   \n",
      "2           1             0            0           0       0             0   \n",
      "3           1             0            0           0       0             0   \n",
      "4           1             0            0           0       0             0   \n",
      "\n",
      "   Armadale  Ascot Vale  Ashburton  Ashwood   ...     Yarra Glen  Brookfield  \\\n",
      "0         0           0          0        0   ...              0           0   \n",
      "1         0           0          0        0   ...              0           0   \n",
      "2         0           0          0        0   ...              0           0   \n",
      "3         0           0          0        0   ...              0           0   \n",
      "4         0           0          0        0   ...              0           0   \n",
      "\n",
      "   Emerald  Whittlesea  Burnside  Attwood  Wallan  New Gisborne  Plumpton  \\\n",
      "0        0           0         0        0       0             0         0   \n",
      "1        0           0         0        0       0             0         0   \n",
      "2        0           0         0        0       0             0         0   \n",
      "3        0           0         0        0       0             0         0   \n",
      "4        0           0         0        0       0             0         0   \n",
      "\n",
      "   Monbulk  \n",
      "0        0  \n",
      "1        0  \n",
      "2        0  \n",
      "3        0  \n",
      "4        0  \n",
      "\n",
      "[5 rows x 314 columns]\n"
     ]
    }
   ],
   "source": [
    "print(data[suburbs].head())"
   ]
  },
  {
   "cell_type": "code",
   "execution_count": 86,
   "metadata": {},
   "outputs": [
    {
     "name": "stdout",
     "output_type": "stream",
     "text": [
      "['S', 'SP', 'PI', 'VB', 'SA']\n"
     ]
    }
   ],
   "source": [
    "methods = data['Method'].unique().tolist()\n",
    "print(methods)\n",
    "for method in methods:\n",
    "    data[method] = data['Method'].map(lambda x: 1 if x==method else 0)"
   ]
  },
  {
   "cell_type": "code",
   "execution_count": 89,
   "metadata": {},
   "outputs": [
    {
     "name": "stdout",
     "output_type": "stream",
     "text": [
      "   S  SP  PI  VB  SA\n",
      "0  1   0   0   0   0\n",
      "1  1   0   0   0   0\n",
      "2  0   1   0   0   0\n",
      "3  0   0   1   0   0\n",
      "4  0   0   0   1   0\n",
      "                  S            SP            PI            VB            SA\n",
      "count  13580.000000  13580.000000  13580.000000  13580.000000  13580.000000\n",
      "mean       0.664359      0.125405      0.115169      0.088292      0.006775\n",
      "std        0.472231      0.331190      0.319238      0.283729      0.082032\n",
      "min        0.000000      0.000000      0.000000      0.000000      0.000000\n",
      "25%        0.000000      0.000000      0.000000      0.000000      0.000000\n",
      "50%        1.000000      0.000000      0.000000      0.000000      0.000000\n",
      "75%        1.000000      0.000000      0.000000      0.000000      0.000000\n",
      "max        1.000000      1.000000      1.000000      1.000000      1.000000\n"
     ]
    }
   ],
   "source": [
    "print(data[methods].head())\n",
    "print(data[methods].describe())"
   ]
  },
  {
   "cell_type": "code",
   "execution_count": 125,
   "metadata": {},
   "outputs": [],
   "source": [
    "# print(data['Date'])\n",
    "data['Datetime_Date'] = data['Date'].map(lambda x: datetime.datetime.strptime(x, '%d/%m/%Y'))\n",
    "data['Day'] = data['Datetime_Date'].map(lambda x: x.day)\n",
    "data['Month'] = data['Datetime_Date'].map(lambda x: x.month)\n",
    "data['Year'] = data['Datetime_Date'].map(lambda x: x.year)"
   ]
  },
  {
   "cell_type": "code",
   "execution_count": 126,
   "metadata": {},
   "outputs": [
    {
     "name": "stdout",
     "output_type": "stream",
     "text": [
      "   Month  Year\n",
      "0     12  2016\n",
      "1      2  2016\n",
      "2      3  2017\n",
      "3      3  2017\n",
      "4      6  2016\n"
     ]
    }
   ],
   "source": [
    "date_fields = ['Month', 'Year']\n",
    "print(data[date_fields].head())"
   ]
  },
  {
   "cell_type": "code",
   "execution_count": 138,
   "metadata": {},
   "outputs": [],
   "source": [
    "types = data['Type'].unique().tolist()\n",
    "for t in types:\n",
    "    data[t] = data['Type'].map(lambda x: 1 if x==t else 0)"
   ]
  },
  {
   "cell_type": "code",
   "execution_count": 140,
   "metadata": {},
   "outputs": [
    {
     "name": "stdout",
     "output_type": "stream",
     "text": [
      "   h  u  t\n",
      "0  1  0  0\n",
      "1  1  0  0\n",
      "2  1  0  0\n",
      "3  1  0  0\n",
      "4  1  0  0\n",
      "                  h             u             t\n",
      "count  13580.000000  13580.000000  13580.000000\n",
      "mean       0.695803      0.222165      0.082032\n",
      "std        0.460084      0.415717      0.274424\n",
      "min        0.000000      0.000000      0.000000\n",
      "25%        0.000000      0.000000      0.000000\n",
      "50%        1.000000      0.000000      0.000000\n",
      "75%        1.000000      0.000000      0.000000\n",
      "max        1.000000      1.000000      1.000000\n"
     ]
    }
   ],
   "source": [
    "print(data[types].head())\n",
    "print(data[types].describe())"
   ]
  },
  {
   "cell_type": "code",
   "execution_count": 187,
   "metadata": {},
   "outputs": [],
   "source": [
    "# print(data['Address'].head(11))\n",
    "data['Address_list'] = data['Address'].map(lambda x: x.split(' '))\n",
    "data['Address_num'] = data['Address_list'].map(lambda x: x[0])\n",
    "data['Address_name'] = data['Address_list'].map(lambda x: x[1])\n",
    "data['Address_city'] = data['Address_list'].map(lambda x: x[2])"
   ]
  },
  {
   "cell_type": "code",
   "execution_count": 223,
   "metadata": {},
   "outputs": [],
   "source": [
    "# print(\"len:\", len(data['Address_num'].unique()), data['Address_num'].unique())\n",
    "# print(\"len:\",len(data['Address_name'].unique()), data['Address_name'].unique())\n",
    "# print(\"len:\", len(data['Address_city'].unique()), data['Address_city'].unique())\n",
    "address_cities = data['Address_city'].unique().tolist()\n",
    "for add_city in address_cities:\n",
    "    data[add_city] = data['Address_city'].map(lambda x: 1 if x==add_city else 0)"
   ]
  },
  {
   "cell_type": "code",
   "execution_count": 243,
   "metadata": {},
   "outputs": [],
   "source": [
    "features = ['Rooms', 'Distance', 'Landsize', 'Lattitude', 'Longtitude', 'Postcode', 'Propertycount', 'Bathroom'] \\\n",
    "            + suburbs \\\n",
    "            + methods \\\n",
    "            + seller_g + date_fields + types + address_cities\n",
    "target = ['Price']\n",
    "# print(features)"
   ]
  },
  {
   "cell_type": "code",
   "execution_count": 259,
   "metadata": {},
   "outputs": [],
   "source": [
    "cv_split = model_selection.ShuffleSplit(n_splits = 10, test_size = .3, train_size = .6, random_state = 0 ) \n",
    "model = tree.DecisionTreeRegressor()\n",
    "cv_results = model_selection.cross_val_score(model, data[features], data[target], cv  = cv_split)"
   ]
  },
  {
   "cell_type": "code",
   "execution_count": 260,
   "metadata": {},
   "outputs": [
    {
     "name": "stdout",
     "output_type": "stream",
     "text": [
      "accuracy: 58.814%\n"
     ]
    }
   ],
   "source": [
    "print(\"accuracy: {:.3f}%\".format(cv_results.mean()*100))"
   ]
  },
  {
   "cell_type": "code",
   "execution_count": 261,
   "metadata": {},
   "outputs": [],
   "source": [
    "train_X, test_X, train_y, test_y = model_selection.train_test_split(data[features], data[target])"
   ]
  },
  {
   "cell_type": "code",
   "execution_count": 266,
   "metadata": {},
   "outputs": [
    {
     "name": "stdout",
     "output_type": "stream",
     "text": [
      "testing accuracy: 60.77%\n"
     ]
    }
   ],
   "source": [
    "model.fit(train_X, train_y)\n",
    "print(\"testing accuracy: {:.2f}%\".format(model.score(test_X, test_y)*100))"
   ]
  },
  {
   "cell_type": "code",
   "execution_count": 307,
   "metadata": {},
   "outputs": [
    {
     "name": "stdout",
     "output_type": "stream",
     "text": [
      "testing accuracy: 15.80%\n",
      "testing accuracy: 31.59%\n",
      "testing accuracy: 47.61%\n",
      "testing accuracy: 55.53%\n",
      "testing accuracy: 59.76%\n",
      "testing accuracy: 61.01%\n",
      "testing accuracy: 62.00%\n",
      "testing accuracy: 62.33%\n",
      "testing accuracy: 64.53%\n",
      "testing accuracy: 63.67%\n",
      "testing accuracy: 64.53%\n"
     ]
    }
   ],
   "source": [
    "p_model = tree.DecisionTreeRegressor()\n",
    "best_accuracy = 0\n",
    "for depth in range(1, 12):\n",
    "    p_model = tree.DecisionTreeRegressor(max_depth=depth)\n",
    "    p_model.fit(train_X, train_y)\n",
    "    \n",
    "    acc = p_model.score(test_X, test_y)*100\n",
    "    if acc > best_accuracy:\n",
    "        best_accuracy = acc\n",
    "    print(\"testing accuracy: {:.2f}%\".format(acc))"
   ]
  },
  {
   "cell_type": "code",
   "execution_count": 278,
   "metadata": {},
   "outputs": [
    {
     "name": "stdout",
     "output_type": "stream",
     "text": [
      "params:  {'criterion': 'mse', 'max_depth': 11, 'max_features': None, 'max_leaf_nodes': None, 'min_impurity_split': 1e-07, 'min_samples_leaf': 1, 'min_samples_split': 2, 'min_weight_fraction_leaf': 0.0, 'presort': False, 'random_state': None, 'splitter': 'best'}\n"
     ]
    }
   ],
   "source": [
    "print(\"params: \", p_model.get_params())"
   ]
  },
  {
   "cell_type": "code",
   "execution_count": 288,
   "metadata": {},
   "outputs": [
    {
     "name": "stdout",
     "output_type": "stream",
     "text": [
      "testing accuracy: 63.78%\n",
      "testing accuracy: 63.28%\n"
     ]
    }
   ],
   "source": [
    "criterion_p = ['mse', 'friedman_mse'] #, 'mae']\n",
    "for c in criterion_p:\n",
    "    p_model = tree.DecisionTreeRegressor(max_depth=11, criterion=c)\n",
    "    p_model.fit(train_X, train_y)\n",
    "    acc = p_model.score(test_X, test_y)*100\n",
    "    if acc > best_accuracy:\n",
    "        best_accuracy = acc\n",
    "    print(\"testing accuracy: {:.2f}%\".format(acc))"
   ]
  },
  {
   "cell_type": "code",
   "execution_count": 293,
   "metadata": {},
   "outputs": [
    {
     "ename": "NameError",
     "evalue": "name 'i' is not defined",
     "output_type": "error",
     "traceback": [
      "\u001b[1;31m---------------------------------------------------------------------------\u001b[0m",
      "\u001b[1;31mNameError\u001b[0m                                 Traceback (most recent call last)",
      "\u001b[1;32m<ipython-input-293-b6071dfbbd1d>\u001b[0m in \u001b[0;36m<module>\u001b[1;34m()\u001b[0m\n\u001b[0;32m      7\u001b[0m     \u001b[1;32mif\u001b[0m \u001b[0macc\u001b[0m \u001b[1;33m>\u001b[0m \u001b[0mbest_accuracy\u001b[0m\u001b[1;33m:\u001b[0m\u001b[1;33m\u001b[0m\u001b[0m\n\u001b[0;32m      8\u001b[0m         \u001b[0mbest_accuracy\u001b[0m \u001b[1;33m=\u001b[0m \u001b[0macc\u001b[0m\u001b[1;33m\u001b[0m\u001b[0m\n\u001b[1;32m----> 9\u001b[1;33m         \u001b[0mbest_max_f\u001b[0m \u001b[1;33m=\u001b[0m \u001b[0mi\u001b[0m\u001b[1;33m\u001b[0m\u001b[0m\n\u001b[0m\u001b[0;32m     10\u001b[0m \u001b[1;31m#     print(\"testing accuracy: {:.2f}%\".format(acc))\u001b[0m\u001b[1;33m\u001b[0m\u001b[1;33m\u001b[0m\u001b[0m\n",
      "\u001b[1;31mNameError\u001b[0m: name 'i' is not defined"
     ]
    }
   ],
   "source": [
    "max_features = [i for i in range(1, len(features))] + [None]\n",
    "best_max_f = None\n",
    "for mf in max_features:\n",
    "    p_model = tree.DecisionTreeRegressor(max_depth=11, criterion='mse', max_features=mf)\n",
    "    p_model.fit(train_X, train_y)\n",
    "    acc = p_model.score(test_X, test_y)*100\n",
    "    if acc > best_accuracy:\n",
    "        best_accuracy = acc\n",
    "        best_max_f = mf\n",
    "#     print(\"testing accuracy: {:.2f}%\".format(acc))"
   ]
  },
  {
   "cell_type": "code",
   "execution_count": 294,
   "metadata": {},
   "outputs": [
    {
     "name": "stdout",
     "output_type": "stream",
     "text": [
      "68.83785517463382\n"
     ]
    }
   ],
   "source": [
    "print(best_accuracy)"
   ]
  },
  {
   "cell_type": "code",
   "execution_count": 312,
   "metadata": {},
   "outputs": [],
   "source": [
    "param_grid = {'max_depth': [i for i in range(1, 12)]+[None], \n",
    "              'max_features': [i for i in range(1, 12)]+[None], \n",
    "             }"
   ]
  },
  {
   "cell_type": "code",
   "execution_count": 350,
   "metadata": {},
   "outputs": [],
   "source": [
    "# tune_model = model_selection.GridSearchCV(tree.DecisionTreeClassifier(), param_grid=param_grid, cv = cv_split)\n",
    "# tune_model.fit(data[features], data[target])"
   ]
  },
  {
   "cell_type": "code",
   "execution_count": 306,
   "metadata": {},
   "outputs": [
    {
     "name": "stdout",
     "output_type": "stream",
     "text": [
      "AFTER DT Parameters:  {'max_depth': 5}\n",
      "score: 1.2665684830633284\n"
     ]
    }
   ],
   "source": [
    "print('AFTER DT Parameters: ', tune_model.best_params_)\n",
    "print('score:',tune_model.score(test_X, test_y)*100)"
   ]
  },
  {
   "cell_type": "code",
   "execution_count": 328,
   "metadata": {},
   "outputs": [
    {
     "data": {
      "text/plain": [
       "SelectFromModel(estimator=DecisionTreeRegressor(criterion='mse', max_depth=11, max_features=None,\n",
       "           max_leaf_nodes=None, min_impurity_split=1e-07,\n",
       "           min_samples_leaf=1, min_samples_split=2,\n",
       "           min_weight_fraction_leaf=0.0, presort=False, random_state=None,\n",
       "           splitter='best'),\n",
       "        prefit=False, threshold=None)"
      ]
     },
     "execution_count": 328,
     "metadata": {},
     "output_type": "execute_result"
    }
   ],
   "source": [
    "dtree_rfe = feature_selection.SelectFromModel(p_model)\n",
    "dtree_rfe.fit(train_X, train_y.squeeze())"
   ]
  },
  {
   "cell_type": "code",
   "execution_count": 345,
   "metadata": {},
   "outputs": [
    {
     "name": "stdout",
     "output_type": "stream",
     "text": [
      "Before: 58.793%\n",
      "Best Cols: 61.151%\n"
     ]
    }
   ],
   "source": [
    "X_ref = data[features].columns.values[dtree_rfe.get_support()]\n",
    "print(\"Before: {:.3f}%\".format(tree.DecisionTreeRegressor().fit(train_X, train_y).score(test_X, test_y)*100))\n",
    "print(\"Best Cols: {:.3f}%\".format(tree.DecisionTreeRegressor().fit(train_X[X_ref], train_y).score(test_X[X_ref], test_y)*100))\n",
    "# print(\"cols: \", X_ref)"
   ]
  },
  {
   "cell_type": "code",
   "execution_count": 351,
   "metadata": {},
   "outputs": [
    {
     "name": "stdout",
     "output_type": "stream",
     "text": [
      "testing accuracy: 15.80%\n",
      "testing accuracy: 31.59%\n",
      "testing accuracy: 47.61%\n",
      "testing accuracy: 55.53%\n",
      "testing accuracy: 58.37%\n",
      "testing accuracy: 61.07%\n",
      "testing accuracy: 63.71%\n",
      "testing accuracy: 64.76%\n",
      "testing accuracy: 65.81%\n"
     ]
    }
   ],
   "source": [
    "best_tree_model = tree.DecisionTreeRegressor()\n",
    "best_max_depth = None\n",
    "best_accuracy = 0\n",
    "for depth in range(1, 18):\n",
    "    p_model = tree.DecisionTreeRegressor(max_depth=depth)\n",
    "    p_model.fit(train_X[X_ref], train_y)\n",
    "    \n",
    "    acc = p_model.score(test_X[X_ref], test_y)\n",
    "    if acc > best_accuracy:\n",
    "        best_accuracy = acc\n",
    "        best_max_depth = depth\n",
    "        print(\"testing accuracy: {:.2f}%\".format(acc*100))      "
   ]
  },
  {
   "cell_type": "code",
   "execution_count": 366,
   "metadata": {},
   "outputs": [],
   "source": [
    "max_features = [i for i in range(1, len(train_X[X_ref].columns.tolist()))] + [None]\n",
    "best_max_f = None\n",
    "for mf in max_features:\n",
    "    p_model = tree.DecisionTreeRegressor(max_depth=best_max_depth, criterion='mse', max_features=mf)\n",
    "    p_model.fit(train_X[X_ref], train_y)\n",
    "    acc = p_model.score(test_X[X_ref], test_y)\n",
    "    if acc > best_accuracy:\n",
    "        best_accuracy = acc\n",
    "        best_max_f = mf\n",
    "        print(\"testing accuracy: {:.2f}%\".format(acc*100))"
   ]
  },
  {
   "cell_type": "code",
   "execution_count": 367,
   "metadata": {},
   "outputs": [
    {
     "name": "stdout",
     "output_type": "stream",
     "text": [
      "testing accuracy: 2.05%\n",
      "testing accuracy: 0.35%\n",
      "testing accuracy: 2.27%\n",
      "testing accuracy: 4.99%\n",
      "testing accuracy: 3.94%\n",
      "testing accuracy: 5.16%\n",
      "testing accuracy: 18.66%\n",
      "testing accuracy: 4.51%\n",
      "testing accuracy: 32.02%\n",
      "testing accuracy: 64.61%\n"
     ]
    }
   ],
   "source": [
    "max_features = [i for i in range(1, 10)] + [None]\n",
    "best_max_f = None\n",
    "for mf in max_features:\n",
    "    p_model = tree.DecisionTreeRegressor(max_depth=best_max_depth, criterion='mse', max_features=mf)\n",
    "    p_model.fit(train_X, train_y)\n",
    "    acc = p_model.score(test_X, test_y)\n",
    "    print(\"testing accuracy: {:.2f}%\".format(acc*100))"
   ]
  },
  {
   "cell_type": "code",
   "execution_count": 368,
   "metadata": {},
   "outputs": [
    {
     "name": "stdout",
     "output_type": "stream",
     "text": [
      "max acc: 69.24963419627707\n"
     ]
    }
   ],
   "source": [
    "print(\"max acc:\", best_accuracy)"
   ]
  },
  {
   "cell_type": "code",
   "execution_count": 334,
   "metadata": {},
   "outputs": [
    {
     "name": "stdout",
     "output_type": "stream",
     "text": [
      "<graphviz.files.Source object at 0x000001EDB5AAB390>\n"
     ]
    }
   ],
   "source": [
    "#Graph MLA version of Decision Tree: http://scikit-learn.org/stable/modules/generated/sklearn.tree.export_graphviz.html\n",
    "import graphviz \n",
    "dot_data = tree.export_graphviz(p_model, out_file=None, \n",
    "                                feature_names = features, class_names = True,\n",
    "                                filled = True, rounded = True)\n",
    "graph = graphviz.Source(dot_data) \n",
    "print(graph)"
   ]
  },
  {
   "cell_type": "code",
   "execution_count": 370,
   "metadata": {},
   "outputs": [
    {
     "data": {
      "image/png": "[encoded data removed]",
      "text/plain": [
       "<Figure size 864x576 with 1 Axes>"
      ]
     },
     "metadata": {},
     "output_type": "display_data"
    }
   ],
   "source": [
    "data['Method'].value_counts().plot.bar()\n",
    "method_percent = data['Method'].value_counts() / len(data['Method'])"
   ]
  },
  {
   "cell_type": "code",
   "execution_count": null,
   "metadata": {},
   "outputs": [],
   "source": []
  }
 ],
 "metadata": {
  "kernelspec": {
   "display_name": "Python 3",
   "language": "python",
   "name": "python3"
  },
  "language_info": {
   "codemirror_mode": {
    "name": "ipython",
    "version": 3
   },
   "file_extension": ".py",
   "mimetype": "text/x-python",
   "name": "python",
   "nbconvert_exporter": "python",
   "pygments_lexer": "ipython3",
   "version": "3.6.2rc1"
  }
 },
 "nbformat": 4,
 "nbformat_minor": 2
}
