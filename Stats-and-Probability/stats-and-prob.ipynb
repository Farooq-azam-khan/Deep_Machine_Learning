{
 "cells": [
  {
   "cell_type": "markdown",
   "id": "838f1c16-bf62-43a5-a7e5-0e23cb9a51de",
   "metadata": {},
   "source": [
    "# Statistics and Probability"
   ]
  },
  {
   "cell_type": "markdown",
   "id": "a0ee7cad-c3aa-48f5-9119-f7aeeae47e34",
   "metadata": {},
   "source": [
    "## Probability Density\n",
    "\n",
    "$f(x) = P(X=x) = \\frac{2x-1}{16}, x = {1,2,3,4}$"
   ]
  },
  {
   "cell_type": "code",
   "execution_count": 24,
   "id": "221cdcc4-66d5-464f-a955-0ab4f245a5ff",
   "metadata": {},
   "outputs": [
    {
     "data": {
      "text/plain": [
       "<BarContainer object of 4 artists>"
      ]
     },
     "execution_count": 24,
     "metadata": {},
     "output_type": "execute_result"
    },
    {
     "data": {
      "image/png": "[encoded data removed]",
      "text/plain": [
       "<Figure size 432x288 with 1 Axes>"
      ]
     },
     "metadata": {
      "needs_background": "light"
     },
     "output_type": "display_data"
    }
   ],
   "source": [
    "import matplotlib.pyplot as plt\n",
    "def f(x):\n",
    "    return (2*x-1)/16\n",
    "data = [f(x) for x in range(1,5)]\n",
    "plt.bar([1,2,3,4], data)"
   ]
  },
  {
   "cell_type": "markdown",
   "id": "3203ac17-abb2-460f-a246-e44f3b1d863a",
   "metadata": {},
   "source": [
    "## Hypter Geometric Distribution\n",
    "\n",
    "- Assume there are ${N \\choose n}$ ways to selecte an object from $N=N1+N2$ objects. \n",
    "\n",
    "$f(x) = P(X=x) = \\frac{{N_1\\choose x}{N_2\\choose n-x}}{{N\\choose n}}$\n",
    "\n",
    "where $x<=n$, $x\\le N_1$, and $n-x\\le N_2$; \n",
    "\n",
    "- __Example:__ pong has 50 fish, 10 have been tagged. Fisher man cathes 7 fish (selected at random and without replacement). Let $X$ denote the number of tagged fish. What is the probability that exactly 2 tagged fish are caught?\n",
    "\n",
    "$P(X=2) = \\frac{{10 \\choose 2}{ 40 \\choose (7-2)}}{{50 \\choose 7}}$"
   ]
  },
  {
   "cell_type": "code",
   "execution_count": 30,
   "id": "8feaedeb-3dcc-4951-aa08-803ff4b13b48",
   "metadata": {},
   "outputs": [],
   "source": [
    "import math \n",
    "def hyper_geometric_distribution(N1, N2, n):\n",
    "    return lambda x: (math.comb(N1, x) * math.comb(N2, n-x)) / math.comb(N1+N2, n)"
   ]
  },
  {
   "cell_type": "code",
   "execution_count": 31,
   "id": "45174dc0-de11-48eb-86dc-d3ff90f4288f",
   "metadata": {},
   "outputs": [
    {
     "data": {
      "text/plain": [
       "0.29644629191345195"
      ]
     },
     "execution_count": 31,
     "metadata": {},
     "output_type": "execute_result"
    }
   ],
   "source": [
    "hyper_geometric_distribution(10, 40, 7)(2)"
   ]
  },
  {
   "cell_type": "markdown",
   "id": "e0c64ec8-c423-4bbe-bff6-7a6833e0fbc8",
   "metadata": {},
   "source": [
    "Therefore, the probability that the fisherman fished exactly two tagged fish is $29.6\\%$. "
   ]
  },
  {
   "cell_type": "code",
   "execution_count": 34,
   "id": "ac766107-0d5f-4c34-a270-4b8315a75c85",
   "metadata": {},
   "outputs": [
    {
     "data": {
      "text/plain": [
       "Text(0.5, 1.0, 'Hyper Geometric Distribution ($N1 = 10, N2=40, n=7$)')"
      ]
     },
     "execution_count": 34,
     "metadata": {},
     "output_type": "execute_result"
    },
    {
     "data": {
      "image/png": "[encoded data removed]",
      "text/plain": [
       "<Figure size 432x288 with 1 Axes>"
      ]
     },
     "metadata": {
      "needs_background": "light"
     },
     "output_type": "display_data"
    }
   ],
   "source": [
    "h1 = hyper_geometric_distribution(8, 32, 16)\n",
    "data = [h1(x) for x in range(17)]\n",
    "plt.bar(list(range(17)), data)\n",
    "plt.title('Hyper Geometric Distribution ($N1 = 10, N2=40, n=7$)')"
   ]
  },
  {
   "cell_type": "markdown",
   "id": "e9553873-f46f-4bb6-b9a6-9c86604c60d8",
   "metadata": {},
   "source": [
    "## Expectation\n",
    "$E(u(X)) = \\sum_{x\\in S} u(x)f(x)$\n",
    "\n",
    "- where $f(x)$ is the pmf of a random variable $X$. "
   ]
  },
  {
   "cell_type": "markdown",
   "id": "053d0c8b-2fce-4a4b-850f-d9071dfd5363",
   "metadata": {},
   "source": [
    "- __Example__: \n",
    "\n",
    "$f(x) = 1/3, x \\in S_x = \\{-1, 0, 1\\}$, \n",
    "\n",
    "$E(X^2) = \\sum_{x\\in S_x} x^2 \\cdot \\frac{1}{3}$\n",
    "\n",
    "$= (-1)^2 \\cdot 1/3 + 0^2 \\cdot 1/3 + 1 ^2 \\cdot 1/3$\n",
    "\n",
    "$= 1/3 + 1/3 = 2/3$"
   ]
  },
  {
   "cell_type": "markdown",
   "id": "19a9f311-20c3-4cb0-8dc5-c3d8f61e9141",
   "metadata": {},
   "source": [
    "### Expectation Properties\n",
    "\n",
    "$E(cX) = cE(X)$\n",
    "\n",
    "\n",
    "$E(c_1 u_1(X) + c_2 u_2(X)) = c_1 E(u_1(X)) + c_2 E(u_2(X))$"
   ]
  },
  {
   "cell_type": "markdown",
   "id": "f01f1cb2-6a70-4f83-a7ac-f0f588c1edf1",
   "metadata": {},
   "source": [
    "## Special Mathematical Expectations\n",
    "- __mean__\n",
    "- __variance__\n",
    "- __standard deviation__"
   ]
  },
  {
   "cell_type": "code",
   "execution_count": null,
   "id": "88a5426d-9004-493b-977f-c86d7acb1a37",
   "metadata": {},
   "outputs": [],
   "source": []
  }
 ],
 "metadata": {
  "kernelspec": {
   "display_name": "Python 3",
   "language": "python",
   "name": "python3"
  },
  "language_info": {
   "codemirror_mode": {
    "name": "ipython",
    "version": 3
   },
   "file_extension": ".py",
   "mimetype": "text/x-python",
   "name": "python",
   "nbconvert_exporter": "python",
   "pygments_lexer": "ipython3",
   "version": "3.8.5"
  }
 },
 "nbformat": 4,
 "nbformat_minor": 5
}
