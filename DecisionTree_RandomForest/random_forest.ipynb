{
 "cells": [
  {
   "cell_type": "code",
   "execution_count": 188,
   "metadata": {},
   "outputs": [],
   "source": [
    "import pandas as pd"
   ]
  },
  {
   "cell_type": "code",
   "execution_count": 189,
   "metadata": {},
   "outputs": [],
   "source": [
    "#Visualization\n",
    "import matplotlib as mpl\n",
    "import matplotlib.pyplot as plt\n",
    "import matplotlib.pylab as pylab\n",
    "import seaborn as sns\n",
    "from pandas.tools.plotting import scatter_matrix\n",
    "\n",
    "#Configure Visualization Defaults\n",
    "# %matplotlib inline = show plots in Jupyter Notebook browser\n",
    "%matplotlib inline\n",
    "mpl.style.use('ggplot')\n",
    "sns.set_style('white')\n",
    "pylab.rcParams['figure.figsize'] = 12,8"
   ]
  },
  {
   "cell_type": "code",
   "execution_count": 190,
   "metadata": {},
   "outputs": [],
   "source": [
    "from sklearn import ensemble, tree\n",
    "\n",
    "from sklearn import metrics\n",
    "from sklearn import model_selection\n",
    "from sklearn import feature_selection\n",
    "from sklearn.metrics import mean_absolute_error"
   ]
  },
  {
   "cell_type": "code",
   "execution_count": 256,
   "metadata": {},
   "outputs": [],
   "source": [
    "# data \n",
    "melb_data = pd.read_csv(\"./data/melb_data.csv\")\n",
    "data = melb_data.copy()"
   ]
  },
  {
   "cell_type": "code",
   "execution_count": 257,
   "metadata": {},
   "outputs": [
    {
     "name": "stdout",
     "output_type": "stream",
     "text": [
      "['Car', 'BuildingArea', 'YearBuilt', 'CouncilArea']\n"
     ]
    }
   ],
   "source": [
    "# missing values\n",
    "missing_cols = [col for col in data.columns \n",
    "                                 if data[col].isnull().any()]\n",
    "print(missing_cols)"
   ]
  },
  {
   "cell_type": "code",
   "execution_count": 193,
   "metadata": {},
   "outputs": [
    {
     "name": "stdout",
     "output_type": "stream",
     "text": [
      "Suburb              0\n",
      "Address             0\n",
      "Rooms               0\n",
      "Type                0\n",
      "Price               0\n",
      "Method              0\n",
      "SellerG             0\n",
      "Date                0\n",
      "Distance            0\n",
      "Postcode            0\n",
      "Bedroom2            0\n",
      "Bathroom            0\n",
      "Car                62\n",
      "Landsize            0\n",
      "BuildingArea     6450\n",
      "YearBuilt        5375\n",
      "CouncilArea      1369\n",
      "Lattitude           0\n",
      "Longtitude          0\n",
      "Regionname          0\n",
      "Propertycount       0\n",
      "dtype: int64\n"
     ]
    }
   ],
   "source": [
    "print(data.isnull().sum())"
   ]
  },
  {
   "cell_type": "code",
   "execution_count": 258,
   "metadata": {},
   "outputs": [],
   "source": [
    "council_area_value_counts = data['CouncilArea'].value_counts()\n",
    "# print(council_area_value_counts)\n",
    "#df[df['Value']==df['Value'].max()]\n",
    "most_common_council_area = council_area_value_counts.keys()[0]\n",
    "# print(most_common_council_area)\n",
    "data['CouncilArea'] = data['CouncilArea'].fillna(most_common_council_area)\n",
    "missing_cols.remove('CouncilArea')"
   ]
  },
  {
   "cell_type": "code",
   "execution_count": 259,
   "metadata": {},
   "outputs": [
    {
     "name": "stdout",
     "output_type": "stream",
     "text": [
      "['Yarra', 'Moonee Valley', 'Port Phillip', 'Darebin', 'Hobsons Bay', 'Stonnington', 'Boroondara', 'Monash', 'Glen Eira', 'Whitehorse', 'Maribyrnong', 'Bayside', 'Moreland', 'Manningham', 'Banyule', 'Melbourne', 'Kingston', 'Brimbank', 'Hume', 'Knox', 'Maroondah', 'Casey', 'Melton', 'Greater Dandenong', 'Nillumbik', 'Whittlesea', 'Frankston', 'Macedon Ranges', 'Yarra Ranges', 'Wyndham', 'Cardinia', 'Unavailable', 'Moorabool']\n"
     ]
    }
   ],
   "source": [
    "print(data['CouncilArea'].unique().tolist())"
   ]
  },
  {
   "cell_type": "code",
   "execution_count": 260,
   "metadata": {},
   "outputs": [],
   "source": [
    "# print(data['Car'].unique().tolist())\n",
    "# data['Car'] = data['Car'].fillna(data['Car'].median())\n",
    "# # print(data['Car'].median())\n",
    "# print(data['Car'].unique().tolist())\n",
    "for m_col in missing_cols:\n",
    "    data[m_col] = data[m_col].fillna(data[m_col].median())"
   ]
  },
  {
   "cell_type": "code",
   "execution_count": 203,
   "metadata": {},
   "outputs": [
    {
     "name": "stdout",
     "output_type": "stream",
     "text": [
      "<class 'pandas.core.frame.DataFrame'>\n",
      "RangeIndex: 13580 entries, 0 to 13579\n",
      "Data columns (total 21 columns):\n",
      "Suburb           13580 non-null object\n",
      "Address          13580 non-null object\n",
      "Rooms            13580 non-null int64\n",
      "Type             13580 non-null object\n",
      "Price            13580 non-null float64\n",
      "Method           13580 non-null object\n",
      "SellerG          13580 non-null object\n",
      "Date             13580 non-null object\n",
      "Distance         13580 non-null float64\n",
      "Postcode         13580 non-null float64\n",
      "Bedroom2         13580 non-null float64\n",
      "Bathroom         13580 non-null float64\n",
      "Car              13580 non-null float64\n",
      "Landsize         13580 non-null float64\n",
      "BuildingArea     13580 non-null float64\n",
      "YearBuilt        13580 non-null float64\n",
      "CouncilArea      13580 non-null object\n",
      "Lattitude        13580 non-null float64\n",
      "Longtitude       13580 non-null float64\n",
      "Regionname       13580 non-null object\n",
      "Propertycount    13580 non-null float64\n",
      "dtypes: float64(12), int64(1), object(8)\n",
      "memory usage: 2.2+ MB\n",
      "None\n"
     ]
    }
   ],
   "source": [
    " print(data.info())"
   ]
  },
  {
   "cell_type": "code",
   "execution_count": 261,
   "metadata": {},
   "outputs": [],
   "source": [
    "data = pd.concat([data, pd.get_dummies(data['Method'])], axis=1)\n",
    "data = pd.concat([data, pd.get_dummies(data['Type'])], axis=1)\n",
    "data = pd.concat([data, pd.get_dummies(data['Regionname'])], axis=1)\n",
    "data = pd.concat([data, pd.get_dummies(data['SellerG'])], axis=1)\n",
    "data = pd.concat([data, pd.get_dummies(data['Suburb'])], axis=1)\n",
    "data = pd.concat([data, pd.get_dummies(data['CouncilArea'])], axis=1)"
   ]
  },
  {
   "cell_type": "code",
   "execution_count": 262,
   "metadata": {},
   "outputs": [
    {
     "name": "stdout",
     "output_type": "stream",
     "text": [
      "        Date           Address\n",
      "0  3/12/2016      85 Turner St\n",
      "1  4/02/2016   25 Bloomburg St\n",
      "2  4/03/2017      5 Charles St\n",
      "3  4/03/2017  40 Federation La\n",
      "4  4/06/2016       55a Park St\n"
     ]
    }
   ],
   "source": [
    "print(data[['Date', 'Address']].head())\n"
   ]
  },
  {
   "cell_type": "code",
   "execution_count": 263,
   "metadata": {},
   "outputs": [],
   "source": [
    "address_street_name = []\n",
    "data['Address_List'] = data['Address'].map(lambda x: x.split(' '))\n",
    "data['Address_Number'] = data['Address_List'].map(lambda x: x[0])\n",
    "data['Address_Name'] = data['Address_List'].map(lambda x: x[1])\n",
    "data['Address_Street'] = data['Address_List'].map(lambda x: x[2])\n",
    "# print(len(data['Address'].unique().sum()))"
   ]
  },
  {
   "cell_type": "code",
   "execution_count": 264,
   "metadata": {},
   "outputs": [],
   "source": [
    "data = pd.concat([data, pd.get_dummies(data['Address_Street'])], axis=1)\n",
    "address_street = data['Address_Street'].unique().tolist()\n",
    "\n",
    "data = pd.concat([data, pd.get_dummies(data['Address_Name'])], axis=1)\n",
    "address_name = data['Address_Name'].unique().tolist()"
   ]
  },
  {
   "cell_type": "code",
   "execution_count": 239,
   "metadata": {},
   "outputs": [
    {
     "name": "stdout",
     "output_type": "stream",
     "text": [
      "['Turner', 'Bloomburg', 'Charles', 'Federation', 'Park', 'Yarra', 'Nicholson', 'Valiant', 'Grosvenor', 'William', 'Abbotsford', 'Henry', 'Gipps', 'Stafford', 'Studley', 'Halsey', 'Bedford', 'Hart', 'Hawker', 'Hillside', 'McIntosh', 'Marshall', 'Roberts', 'Harrington', 'Parer', 'Clydesdale', 'Deidre', 'Etzel', 'Cameron', 'Victory', 'Earl', 'King', 'Kittyhawk', 'Fullarton', 'South', 'North', 'Hilbert', 'Moorna', 'Kerferd', 'Richardson', 'Beaconsfield', 'Graham', 'Montague', 'Brooke', 'Mills', 'Moubray', 'Faussett', 'Herbert', 'Draper', 'Dundas', 'Finlay', 'Gatehouse', 'Barrett', 'Page', 'Withers', 'Merton', 'Greig', 'Danks', 'Reed', 'Bridport', 'Durham', 'Smith', 'Yarralea', 'Fulham', 'Shiers', 'Harker', 'Miller', 'Yarana', 'Heidelberg', 'Naroon', 'Grange', 'Bennett', 'Hamilton', 'Chandler', 'Lowther', 'Margaret', 'Queen', 'Bracken', 'Blyth', 'Linnet', 'Rose', 'Grieve', 'Maidstone', 'Keeshan', 'David', 'Merritt', 'Millers', 'Pier', 'Wren', 'Rayner', 'Sargood', 'Fenfield', 'Seves', 'McIntyre', 'Boyd', 'Spear', 'Mulga', 'Railway', 'Bent', 'Kookaburra', 'Civic', 'Curtin', 'Hearn', 'Knapp', 'Hatherley', 'Marion', 'Carthy', 'Harris', 'Little', 'Binns', 'Allan', 'Mason', 'May', 'Beevers', 'Murphy', 'Neal', 'Duosa', 'Chambers', 'Gadsden', 'Hansen', 'Prismall', 'Hill', 'Cresser', 'Blackshaws', 'Mercer', 'Adelaide', 'Denbigh', 'High', 'Llaneast', 'Northcote', 'Cambridge', 'Fulton', 'Wattletree', 'Willis', 'Myamyn', 'Orrong', 'Dandenong', 'Kooyong', 'Armadale', 'Sutherland', 'New', 'Auburn', 'Hume', 'Glassford', 'Derby', 'Union', 'Hampden', 'Malvern', 'Roxburgh', 'Rothwell', 'Francis', 'Harold', 'The', 'Walter', 'Epsom', 'Geddes', 'Maribyrnong', 'Roseberry', 'Fenton', 'McCully', 'Hurtle', 'Kent', 'Monash', 'Ormond', 'Dalgety', 'Mirams', 'Ascot', 'Farncomb', 'Newsom', 'Pentland', 'Munro', 'Hockey', 'Angler', 'Ayr', 'Bayview', 'Milton', 'Burrowes', 'Bloomfield', 'Middle', 'Waller', 'East', 'Doncaster', 'Dent', 'Albion', 'Ashburn', 'Solway', 'Dunlop', 'Nicholas', 'Eleanor', 'Nairn', 'Gona', 'Yuile', 'Glen', 'Baker', 'Comas', 'Mustang', 'Vears', 'Lucerne', 'Pitt', 'Meaden', 'Taylor', 'Y', 'Highgate', 'Ward', 'Poulter', 'Teck', 'Raymond', 'Douglas', 'Winbirra', 'Montrose', 'Scenic', 'Rocklands', 'Farmer', 'Maroondah', 'Peppermint', 'Huntingdale', 'Murra', 'Ashwood', 'Katta', 'Queens', 'Mulgrave', 'Parkhill', 'Leonard', 'Condah', 'Newbury', 'Salisbury', 'Norma', 'Rogerson', 'Canning', 'Wood', 'Arbor', 'Karen', 'Lovett', 'Skewes', 'Thompson', 'Duke', 'Military', 'River', 'Clive', 'Warrick', 'Nelson', 'Monmouth', 'Willow', 'Westminster', 'Hillman', 'Moffat', 'Bordeaux', 'Weyburn', 'Clarendon', 'Drake', 'Doyle', 'Carmyle', 'Intervale', 'Milleara', 'Linton', 'Gourlay', 'Sycamore', 'Blenheim', 'Orange', 'Carlisle', 'Camden', 'Marlborough', 'Brighton', 'Gordon', 'Narrak', 'Balwyn', 'Belmore', 'Bevan', 'Melba', 'Parring', 'Yongala', 'Cremorne', 'Boston', 'Metung', 'Weir', 'Nungerner', 'Naroo', 'Whitehorse', 'Brenbeal', 'Fitzgerald', 'Iramoo', 'Percy', 'Evelina', 'Millah', 'Raynes', 'Weston', 'Frederick', 'Power', 'Yerrin', 'Birtles', 'Kalimna', 'Knutsford', 'Nott', 'Wills', 'Pembroke', 'Sevenoaks', 'Shrimpton', 'Clifton', 'Jacka', 'Jaserfold', 'Abbott', 'Bolinda', 'Dumblane', 'Hood', 'Kenny', 'Riverview', 'Sweyn', 'Highbury', 'Kawarren', 'Longview', 'Maud', 'Stuart', 'Sutton', 'Nevada', 'Cityview', 'Ellendale', 'Tannock', 'Abassia', 'Seattle', 'Severn', 'Bulleen', 'Carrington', 'Winfield', 'Cash', 'Helston', 'Moody', 'Lucifer', 'Greythorn', 'Lemon', 'Corhampton', 'Tudor', 'Walnut', 'Stephens', 'Alpha', 'Hosken', 'Ajax', 'Illawarra', 'Woodville', 'Leicester', 'Sylvan', 'Aylmer', 'Hedderwick', 'Tuxen', 'Capella', 'Morris', 'Bernard', 'Highview', 'Almond', 'Milfay', 'Maughan', 'Ray', 'Gildan', 'Hatfield', 'Tovey', 'Centre', 'Hobart', 'Patterson', 'Leckie', 'Marquis', 'Rogers', 'Scotts', 'Mortimore', 'Tucker', 'Godfrey', 'Jasper', 'Miles', 'Somers', 'Brentwood', 'Coates', 'Yawla', 'Luckins', 'Fromer', 'London', 'Daley', 'Harding', 'Wheatley', 'Atkinson', 'Rosina', 'Sandra', 'Wavell', 'Wilson', 'Bleazby', 'Corbie', 'Mitchell', 'Uonga', 'Horsley', 'Charlton', 'Whitmuir', 'Wright', 'Vickery', 'Werona', 'McKittrick', 'Bruce', 'Dickens', 'Hutchinson', 'Mervin', 'Purtell', 'Veronica', 'Bessie', 'Daphne', 'Denver', 'Parkmore', 'Boronia', 'Castlewood', 'Edinburgh', 'Elizabeth', 'Neville', 'Birdwood', 'Bray', 'Brooks', 'Claronga', 'Gowrie', 'Konrad', 'Kurrajong', 'Lesden', 'Tambet', 'Barrani', 'Bignell', 'Brady', 'Connie', 'Derry', 'Molden', 'Normdale', 'Northam', 'Richard', 'Rudyard', 'Gray', 'Victor', 'Wallace', 'Wards', 'Wonga', 'Leigh', 'Brian', 'Bradford', 'Kennedy', 'MacKie', 'Norville', 'Thornton', 'Schulz', 'Liverpool', 'Yarraburn', 'Vasey', 'Argyle', 'Browns', 'Glover', 'Normanby', 'York', 'Adrian', 'England', 'Lilac', 'Almurta', 'Celia', 'Chauvel', 'Leo', 'Moylan', 'Paloma', 'Valkstone', 'Francesco', 'Greenview', 'Malane', 'Waratah', 'Wamba', 'Florence', 'Jassa', 'Millard', 'Chesterville', 'Matthews', 'Patricia', 'Shrewsbury', 'Warrigal', 'McGuinness', 'Cavalier', 'Gardeners', 'Melball', 'Brad', 'Forrest', 'Mawby', 'McKinnon', 'Cormick', 'Garden', 'Pell', 'Deakin', 'Hodgson', 'Sanicki', 'Manuka', 'Barrington', 'Belinda', 'Colin', 'Wingate', 'Anarth', 'John', 'Barkly', 'Cherryhinton', 'Station', 'Glenmore', 'Alexander', 'Combarton', 'Davey', 'Thames', 'Harrow', 'Bass', 'Watts', 'Barcelona', 'Collins', 'Pendle', 'Oxford', 'Archibald', 'Simpsons', 'Ashted', 'Cunningham', 'Maple', 'Canterbury', 'Lily', 'Vine', 'Carlton', 'Cross', 'Riley', 'Hughes', 'Kannan', 'Balmoral', 'Menzies', 'Howell', 'Arthur', 'Joy', 'Dedrick', 'Moama', 'Windsor', 'Errol', 'Marnoo', 'Kenross', 'Hampton', 'Rooding', 'Cochrane', 'McCallum', 'Pearson', 'Victoria', 'Well', 'Cole', 'Dendy', 'Foote', 'Head', 'Roslyn', 'Whyte', 'Albert', 'Carpenter', 'Mair', 'Church', 'Hanby', 'View', 'Warleigh', 'Webb', 'Bay', 'St', 'Davie', 'Tennyson', 'Gould', 'Manor', 'Were', 'Campbell', 'Martin', 'Dudley', 'Black', 'Bridge', 'Elm', 'Loller', 'Sussex', 'Chavasse', 'Orchard', 'Burrows', 'Champion', 'Southey', 'Brickwood', 'Durrant', 'Asling', 'Male', 'Boxshall', 'Huntingfield', 'Lindsay', 'Butler', 'Cowra', 'Wolseley', 'Chelsea', 'Elwood', 'Rusden', 'Balfour', 'Marriage', 'Hodder', 'Milroy', 'Pine', 'Camperdown', 'Billson', 'Meyer', 'Robinson', 'Thomas', 'Baird', 'Vincent', 'Alford', 'Cummins', 'Chapman', 'Hornby', 'Arnot', 'Holmhurst', 'Moore', 'Nepean', 'Hemming', 'Lucas', 'Agnew', 'Cluden', 'Arnold', 'Curzon', 'Murray', 'Regent', 'Ferguson', 'Valdemar', 'Montgomery', 'Summerhill', 'Walstab', 'Hurlstone', 'De', 'Blair', 'Hardy', 'Stewart', 'Brickworks', 'Donald', 'Austin', 'Brunswick', 'Gold', 'Staley', 'Breese', 'Hope', 'Sheffield', 'Eveline', 'Osborne', 'Thistle', 'Davies', 'Evans', 'MacKenzie', 'Lydia', 'Glenlyon', 'Barrow', 'Jones', 'Murdock', 'Pottery', 'Cassels', 'Edward', 'Dods', 'Sturrock', 'Ballarat', 'Henkel', 'Dawson', 'Aberdeen', 'Hanover', 'Tinning', 'Talbot', 'McPherson', 'Davison', 'Goodman', 'Sydney', 'Heller', 'Lobb', 'Bell', 'Bryant', 'Garnet', 'Hall', 'Louisa', 'Warburton', 'Denman', 'Horne', 'Saxon', 'Cliff', 'Mountfield', 'Passfield', 'Moreland', 'Wales', 'Walker', 'Allard', 'Halpin', 'Whitby', 'Egginton', 'Yarrabin', 'Melville', 'Burnell', 'Henderson', 'Zeal', 'Cumming', 'Grantham', 'Morrow', 'Peacock', 'Culloden', 'Jordan', 'McLean', 'Bakers', 'Robert', 'Swanston', 'Rocklea', 'Albany', 'Greenhill', 'Manningham', 'Tobruk', 'Fuller', 'Tanami', 'Dale', 'Furneaux', 'Sheahans', 'Carrathool', 'Estelle', 'Warringal', 'Kandanga', 'Thompsons', 'Bourke', 'Vera', 'Summit', 'Kampman', 'Kenneth', 'Westwood', 'Graeme', 'Barak', 'Birrarrung', 'Gisborne', 'Helene', 'Flinders', 'Kathleen', 'Loudon', 'Keogh', 'McCubbin', 'Elgar', 'Wattlebird', 'Corrigan', 'Greenwood', 'Conservatory', 'Scott', 'Havelock', 'McComas', 'Brockhoff', 'Iris', 'Andrews', 'Meldan', 'Burwood', 'Gillard', 'Hastings', 'Puerta', 'Edwards', 'Montpellier', 'Pescott', 'Alimar', 'Octavia', 'Renown', 'Goold', 'Brinsley', 'Toorak', 'Burke', 'Callanish', 'Christowel', 'Wattle', 'Netherway', 'Camberwell', 'Inglesby', 'Radnor', 'Stodart', 'Hunter', 'Russell', 'Riversdale', 'Range', 'Through', 'Donna', 'Grace', 'Holly', 'Tyrone', 'Athelstan', 'Gavan', 'Ada', 'Cooloongatta', 'Nicholsdale', 'Hazel', 'Hollsmoor', 'Joffre', 'Seymour', 'Glyndon', 'Bowen', 'Judd', 'Waterloo', 'Crescent', 'Avenue', 'Kalang', 'Nevis', 'Cornell', 'Kirkwood', 'Irilbarra', 'Myrtle', 'Chatham', 'McGregor', 'Rubens', 'Dorothea', 'Monomeath', 'Byron', 'Compton', 'Rochester', 'Faversham', 'Marden', 'Highfield', 'Erica', 'Logan', 'Maling', 'Newry', 'Rathdowne', 'Drummond', 'Fletcher', 'MacPherson', 'Amess', 'Ogrady', 'Lee', 'Curtain', 'Fenwick', 'Lygon', 'Mary', 'Moonya', 'Truganini', 'Neerim', 'Oakleigh', 'Emily', 'Jersey', 'Lyons', 'Anzac', 'Poplar', 'Woornack', 'Judith', 'Frogmore', 'Kokaribb', 'Koornang', 'El', 'Longstaff', 'Arawatta', 'Mimosa', 'McLaurin', 'Maroona', 'Coorigil', 'Morgan', 'Elimatta', 'Blackwood', 'Edgewood', 'Leila', 'Rosstown', 'Yendon', 'Gnarwyn', 'Freeman', 'Ash', 'Kambrook', 'Briggs', 'Pyne', 'Inkerman', 'Balaclava', 'Hawthorn', 'Wanda', 'Narong', 'Alma', 'Flowers', 'Alder', 'Dover', 'Filbert', 'Rotorua', 'Gardenvale', 'Bambra', 'Bealiba', 'Griffiths', 'Alfada', 'Trevascus', 'Ellington', 'Field', 'Jupiter', 'Booran', 'Marara', 'Clarence', 'Cedar', 'Venus', 'Euroka', 'Moroney', 'Moorong', 'Thurloo', 'Lenna', 'Bullarto', 'Aloomba', 'Rae', 'Warrina', 'Yambie', 'Inga', 'Fitzroy', 'Kelly', 'Jacana', 'Grandview', 'Hodgkinson', 'Noone', 'Caroline', 'Roseneath', 'Wellington', 'Kiewa', 'Edmund', 'Spensley', 'Council', 'Groom', 'Barries', 'Hoddle', 'Molesworth', 'Shackell', 'Ohea', 'Watchtower', 'Hardwick', 'Mavis', 'Portland', 'Stawell', 'Linda', 'Manna', 'Higinbotham', 'McKay', 'Quarry', 'Reynard', 'Glengyle', 'Gladstone', 'Governors', 'Donne', 'Service', 'Budds', 'Shaftsbury', 'Industry', 'Berry', 'Phillips', 'Audley', 'Carron', 'Farm', 'Hudson', 'Pentridge', 'Gilbert', 'Walsh', 'Franklin', 'Loch', 'Rennie', 'Kelson', 'Chandos', 'Rodda', 'Soudan', 'Beckley', 'Gaffney', 'Kaye', 'Saunders', 'Younger', 'Baxter', 'Geake', 'Livingstone', 'Ronald', 'Headley', 'Newlands', 'Pixel', 'McMahons', 'Manly', 'Rollo', 'Mathieson', 'Sharp', 'Boyne', 'Tilley', 'Goleen', 'Convent', 'Marama', 'McDonnell', 'Williams', 'Aperture', 'Golf', 'Snapshot', 'Boundary', 'Norris', 'Shorts', 'Carr', 'Hotham', 'Keele', 'Islington', 'Stanley', 'Emma', 'Perry', 'Budd', 'Sackville', 'Forest', 'Charlotte', 'Mater', 'George', 'Wetherby', 'Finlayson', 'Hanke', 'Roseland', 'Thiele', 'Murillo', 'Nola', 'Carnarvon', 'Board', 'Maralee', 'Pettys', 'Somerville', 'Firth', 'Burgundy', 'Colston', 'Hampshire', 'Dunoon', 'Gilmore', 'Ibis', 'Westfield', 'Madeleine', 'Menarra', 'Massey', 'Benton', 'Louise', 'Glenda', 'Paul', 'Santiago', 'Winbrook', 'Winston', 'Bellara', 'Outlook', 'Reddan', 'Iskandar', 'Ernst', 'Hepburn', 'Warren', 'Robin', 'Norfolk', 'Katrina', 'Frank', 'Howard', 'Botanic', 'Crawford', 'Eildon', 'Ashby', 'Castle', 'Cape', 'Glenard', 'Cumberland', 'Banksia', 'Warne', 'Ross', 'Meaney', 'Trevelyan', 'Buxton', 'Hartington', 'College', 'Prentice', 'Staniland', 'Allison', 'Liscard', 'Riddell', 'Ripon', 'Shoobra', 'Carlingford', 'Wilton', 'Goldsmith', 'Shelley', 'Spray', 'Ruskin', 'Foam', 'Poets', 'Burns', 'Clarke', 'Tiuna', 'Addison', 'Docker', 'Alfriston', 'Kingsley', 'Mitford', 'Vautier', 'Wave', 'Buckley', 'Gilbertson', 'Bradshaw', 'Kendall', 'Robb', 'Cooper', 'Ardoch', 'Brewster', 'Ogilvie', 'Vanberg', 'Loeman', 'Napier', 'Agatha', 'Ballater', 'Forrester', 'Nimmo', 'Monica', 'Price', 'McCarron', 'Daisy', 'Braemar', 'Hoffmans', 'Lincoln', 'Mt', 'Spencer', 'Violet', 'Cooke', 'Raleigh', 'Warner', 'McPhail', 'Glass', 'McHale', 'Woodland', 'Market', 'McCracken', 'Winifred', 'Keilor', 'Leake', 'Wheeler', 'Tweedside', 'Schofield', 'Lorraine', 'MacKay', 'Graves', 'Hilda', 'Mountain', 'Shaftesbury', 'Thomson', 'Washington', 'Elder', 'Alfred', 'Bulla', 'Oshannassy', 'Duffy', 'Keam', 'Greville', 'Gillies', 'Rathmines', 'Wingrove', 'Rushall', 'Christmas', 'Rayment', 'Cecil', 'Moor', 'Westgarth', 'Gore', 'Young', 'Kerr', 'charles', 'Bik', 'Pilkington', 'McKean', 'Scotchmer', 'Jamieson', 'Apperley', 'Clauscen', 'Alister', 'Delbridge', 'Best', 'Batman', 'Birkenhead', 'Reid', 'Eastham', 'Falconer', 'Kneen', 'Seacombe', 'Tait', 'Shields', 'Crown', 'Dartford', 'Finsbury', 'Coronet', 'Wisewould', 'Princes', 'Farnham', 'Glance', 'Racecourse', 'Everard', 'Lynch', 'Southampton', 'Stirling', 'Wolverhampton', 'Eldridge', 'Buckingham', 'Geelong', 'Pickett', 'Commercial', 'Jerrold', 'Essex', 'Empire', 'Stanlake', 'Swan', 'Saltriver', 'Whitehall', 'Rosamond', 'Ryan', 'Cowper', 'Droop', 'French', 'Leander', 'Hyde', 'White', 'Hopkins', 'McDougall', 'Beatrice', 'Brandon', 'Staughton', 'Bath', 'Kenilworth', 'Pascoe', 'Peace', 'Bridges', 'Chester', 'Gardiner', 'Renwick', 'Hazeldine', 'Montana', 'Aintree', 'Flowerdale', 'Walerna', 'Myrniong', 'Tooronga', 'Yeovil', 'Edgar', 'Welfare', 'Cloverdale', 'Howitt', 'Howie', 'Nash', 'Bardolph', 'Estella', 'Maitland', 'Sunhill', 'Morell', 'Rosedale', 'Somerset', 'Ferndale', 'Kyarra', 'Rix', 'Valley', 'Hadley', 'Madeline', 'Beryl', 'Fairview', 'Glenvale', 'Farview', 'Morley', 'Wheatsheaf', 'Acacia', 'Roy', 'Sadie', 'Glenroy', 'Barwon', 'Caldwell', 'Cosmos', 'Bourchier', 'Dromana', 'Trevannion', 'Currajong', 'Danae', 'Augustine', 'Fran', 'Widford', 'Anselm', 'Cardinal', 'Murrell', 'Prospect', 'Cromwell', 'Moonee', 'Hilton', 'Bindi', 'Lytton', 'Pecham', 'Gowanbrae', 'Seggan', 'Balerno', 'Mirrim', 'Perth', 'Birk', 'Primula', 'Knole', 'Sherwood', 'Surrey', 'West', 'Volga', 'Angus', 'Barunah', 'Dickinson', 'Barbara', 'Gish', 'Tassell', 'Grenville', 'Earlsfield', 'Orlando', 'Bluff', 'Bronte', 'Fewster', 'Teddington', 'Linacre', 'Bendigo', 'Holyrood', 'Margarita', 'Kingston', 'Ludstone', 'Olive', 'Beach', 'Carolyn', 'Crisp', 'Ocean', 'Highett', 'Conifer', 'Littlewood', 'Valerian', 'Alicia', 'Avelin', 'Kanowna', 'Bartlett', 'Wishart', 'Charming', 'Roydon', 'Wickham', 'Besant', 'Warland', 'Harry', 'Dane', 'Berkeley', 'Elgin', 'Glenferrie', 'Denham', 'Finchley', 'Brook', 'Elphin', 'Malmsbury', 'Barkers', 'Tweed', 'Liddiard', 'Muir', 'Kinkora', 'Morang', 'Randolph', 'Kooyongkoot', 'Connell', 'Lisson', 'Oak', 'Falmouth', 'Wallen', 'Ardene', 'Edgerton', 'Fordholm', 'Creswick', 'Manningtree', 'Simpson', 'Clovelly', 'Oxley', 'Edwin', 'Haig', 'Porter', 'Southern', 'Bamfield', 'Bonar', 'Eden', 'Waterdale', 'Outhwaite', 'Shakespeare', 'Altona', 'McEwan', 'Upper', 'Dougharty', 'Lloyd', 'Katoomba', 'Redwood', 'Pacific', 'Wewak', 'Goodenough', 'Ramu', 'Liberty', 'Alamein', 'Derna', 'Midway', 'Oriel', 'Carbeena', 'Corvette', 'Catalina', 'Pandanus', 'Morotai', 'Barce', 'Mulberry', 'Achilles', 'Kokoda', 'Ambon', 'Paget', 'Swindon', 'Dalston', 'Maroo', 'Kinrade', 'Kangaroo', 'Bowmore', 'Paddington', 'Skipton', 'Rugby', 'Darling', 'Euston', 'Poath', 'Locksley', 'Tate', 'Green', 'Thoresby', 'Cook', 'Robbins', 'Rocke', 'Dalveen', 'Fairy', 'Ivanhoe', 'Magnolia', 'Athelstane', 'Bond', 'Jellicoe', 'Beatty', 'Ailsa', 'Ayton', 'Kwinana', 'Norman', 'McShane', 'Woburn', 'McGrath', 'Longford', 'Stenson', 'Orbital', 'Driscolls', 'Calverton', 'Woolstone', 'Georgia', 'Valewood', 'Border', 'Sterling', 'Cudgewa', 'Dinah', 'Drew', 'Giuliano', 'Viewbank', 'Wonganella', 'Cohen', 'Nyah', 'Craig', 'Wyong', 'Brees', 'Hilltop', 'Rachelle', 'Woorite', 'Berembong', 'Clover', 'Phillip', 'Quinn', 'Trent', 'Harley', 'Pennington', 'Gungarlan', 'Norwood', 'Chappell', 'Keith', 'Yallop', 'Borva', 'Clarks', 'Alwyn', 'Coopers', 'Hardiman', 'Rigby', 'Bayswater', 'Scarborough', 'Bangalore', 'Mawbey', 'Barnett', 'Collett', 'Kensington', 'McConnell', 'Youlden', 'Nottingham', 'Rankins', 'Bendall', 'Rourke', 'Hopetoun', 'Rogan', 'Eastwood', 'Parsons', 'Robertson', 'MacAulay', 'Pridham', 'Chelmsford', 'Wight', 'Howlett', 'Annadale', 'Rowland', 'Pakington', 'Fernhurst', 'Cobden', 'Clevedon', 'Franks', 'Merrion', 'Brougham', 'Edgevale', 'Barry', 'Oshaughnessy', 'Princess', 'Peel', 'Walpole', 'Willsmere', 'Atkins', 'Cotham', 'Dean', 'Gellibrand', 'Churchill', 'Stevenson', 'Fitzwilliam', 'Heather', 'Mount', 'Childers', 'Denmark', 'Disraeli', 'Kellett', 'Malin', 'Wiltshire', 'Harp', 'Oswin', 'Strathalbyn', 'Belford', 'Kilby', 'Frater', 'Meldrum', 'Westbrook', 'Minogue', 'Hartwood', 'Arden', 'Kitchener', 'Monaro', 'Bosquet', 'Crefden', 'Dunedin', 'Ringtail', 'Omar', 'Lindenow', 'Hutton', 'Cathcart', 'Pullar', 'Carlyle', 'Suffolk', 'Madden', 'Radio', 'Eucalyptus', 'Marsh', 'Rooney', 'Verdun', 'Irving', 'Dixon', 'Hornsby', 'Plant', 'Wheatland', 'Cawkwell', 'Eva', 'Evandale', 'Horace', 'Cressy', 'Woodmason', 'Johnstone', 'Fraser', 'McArthur', 'Ewart', 'Winter', 'Chanak', 'Goode', 'Thurso', 'Waverley', 'Emo', 'Findon', 'Manning', 'Warley', 'Peverill', 'Anfield', 'MacGregor', 'Belgrave', 'Brunel', 'Gauntlet', 'Beaver', 'Belson', 'Peak', 'Prior', 'Fisher', 'Durward', 'Kardella', 'Villers', 'Hyslop', 'Repton', 'Anderson', 'Grant', 'Hillard', 'Paxton', 'Argyll', 'Steele', 'Capon', 'Ellison', 'Virginia', 'Wilmot', 'Londrew', 'Kynoch', 'Wests', 'Valnere', 'Warrs', 'Kallara', 'Randall', 'Kellaway', 'Newstead', 'Platypus', 'Rylie', 'Ensign', 'Marin', 'Ordnance', 'Edgewater', 'Horizon', 'Lyric', 'Navigator', 'Fabian', 'Nayook', 'Skyline', 'Belvedere', 'Forge', 'Murnong', 'MacEdon', 'Exhibition', 'Abeckett', 'Davisons', 'Therry', 'Hayward', 'Hambleton', 'Carter', 'Ashworth', 'Kenmare', 'Rostrevor', 'Zetland', 'Nangnak', 'Serpentine', 'Inglisby', 'Shuter', 'Clarinda', 'Scotia', 'Aberfeldie', 'Athol', 'Chaucer', 'Holmes', 'Holberg', 'Lennox', 'Mantell', 'Eglinton', 'Primrose', 'Browning', 'Winchester', 'Milverton', 'Fanny', 'Wordsworth', 'Pattison', 'Ardmillan', 'Newton', 'Orford', 'Parry', 'Capulet', 'Ngarveno', 'Fiddes', 'Hamer', 'Matilda', 'Rowans', 'Bulli', 'Avon', 'Royena', 'Barilla', 'Genoa', 'Rice', 'Florida', 'Otford', 'Rhonda', 'Bruthen', 'Beilby', 'Chapel', 'Clay', 'Biscop', 'Faye', 'Horsmunden', 'Wimmera', 'Thorpe', 'Chalmers', 'Milford', 'Challis', 'Woods', 'Melbourne', 'Clyde', 'Home', 'Mirls', 'Agg', 'Effingham', 'Jubilee', 'Croker', 'Rosshire', 'Port', 'Durkin', 'Maddox', 'Speight', 'Oakbank', 'Wilkins', 'Johnston', 'Bradley', 'Hobson', 'Schutt', 'Coghlan', 'Muriel', 'Diamond', 'Sapphire', 'Haldane', 'Nolan', 'Cuthbert', 'Vaynor', 'Michael', 'Spring', 'Jackson', 'Kelvin', 'Hanson', 'Newman', 'Ida', 'Rutland', 'Flemington', 'Haines', 'Munster', 'Shands', 'Leveson', 'Provost', 'Chetwynd', 'Wreckyn', 'Lothian', 'Shiel', 'Queensberry', 'Oshanassy', 'Melrose', 'Curran', 'Dryburgh', 'Jessie', 'Bastings', 'Claude', 'Wilmoth', 'Arthurton', 'Dennis', 'Gadd', 'Helen', 'Stott', 'Emmaline', 'Creek', 'Separation', 'Tanner', 'Andrew', 'Oamaru', 'Darebin', 'Glanfield', 'McFarlane', 'McLachlan', 'Ellesmere', 'Hayes', 'Dally', 'Zoe', 'Traill', 'Vauxhall', 'James', 'Jenkins', 'Johnson', 'Beavers', 'Westbourne', 'Marie', 'Gregory', 'Cartwright', 'Devereaux', 'Sylvester', 'Ethel', 'Pines', 'Ridge', 'Lex', 'Grevillia', 'Valdoone', 'Flannery', 'Jacaranda', 'Hillcrest', 'Bossington', 'Alleford', 'Columbia', 'Wicks', 'Cascade', 'Luntar', 'Guest', 'Robyn', 'Emerald', 'Dermot', 'Telopea', 'Devoy', 'Druitt', 'Paula', 'Vanessa', 'Strickland', 'Fitzgibbon', 'Lennon', 'Royal', 'Story', 'MacArthur', 'Carrangall', 'Irvine', 'Quick', 'Stennis', 'Alexandra', 'Dorset', 'Wicklow', 'Zenith', 'Bellevue', 'Donnelly', 'Raeburn', 'Snell', 'Fawkner', 'Eddie', 'Kevin', 'Rhodes', 'Farringdon', 'Arndt', 'Bolingbroke', 'Merbein', 'Devon', 'Dorothy', 'Northumberland', 'Sefton', 'Coane', 'Collings', 'Downs', 'Callander', 'Alpine', 'Cornwall', 'Rouse', 'Seisman', 'Stokes', 'Williamstown', 'Dow', 'Dunstan', 'Cruikshank', 'Farrell', 'Liardet', 'Raglan', 'Canberra', 'Pickles', 'Heath', 'Garton', 'Swallow', 'Ingles', 'Clark', 'Howe', 'Wynnstay', 'Hillingdon', 'Doon', 'Wrights', 'Packington', 'Chatsworth', 'Chomley', 'McMicken', 'Arkle', 'Irene', 'Pickford', 'Eggleton', 'Gower', 'Malpas', 'Plenty', 'Olver', 'Tyler', 'Benambra', 'Burkitt', 'Tynan', 'Youngman', 'Opal', 'Parker', 'Showers', 'Eton', 'Cramer', 'Flett', 'Newcastle', 'Tiernan', 'Furzer', 'Watson', 'Pender', 'Wilcox', 'Avondale', 'Leopold', 'Ryde', 'Bellarine', 'Cormac', 'Paywit', 'Lovelace', 'Josephine', 'Ventnor', 'Booth', 'Bischoff', 'Esther', 'Grampian', 'Inverloch', 'Okeefe', 'Belgrove', 'Gillingham', 'Dumbarton', 'Purinuan', 'Ashton', 'Crookston', 'Drysdale', 'Edwardes', 'Fordham', 'Wilkinson', 'Cheddar', 'Odowd', 'Powell', 'Rodman', 'Xavier', 'Dredge', 'Hickford', 'Zinnia', 'Barton', 'Gloucester', 'Godley', 'Kinsale', 'Leamington', 'McMahon', 'Ashley', 'Bluebell', 'Oconnor', 'Boldrewood', 'Crawley', 'Elinda', 'Henty', 'MacK', 'Rathcown', 'Colthur', 'Fyfe', 'Storey', 'Whitelaw', 'Hillcroft', 'Box', 'Bedwell', 'Frankston', 'Keon', 'Northernhay', 'Caddy', 'Mattea', 'Nisbett', 'Clements', 'Epstein', 'Southernhay', 'Pershing', 'Willoughby', 'Down', 'Chaleyer', 'Merino', 'Borrie', 'Daventry', 'Elsey', 'Radford', 'Sheargold', 'Ludeman', 'Chenies', 'Gilbank', 'Beenak', 'Delaware', 'Ramleh', 'Cool', 'Davidson', 'Jess', 'Seaver', 'Banff', 'Mahoneys', 'Shand', 'Thackeray', 'Gourock', 'Harmer', 'Mendip', 'Berwick', 'Steane', 'Nutwood', 'Erin', 'Lyndhurst', 'Palmer', 'Westbank', 'Bank', 'Lord', 'Coppin', 'Bosisto', 'Burnley', 'Gardner', 'Leslie', 'Rowena', 'Punt', 'Goodwood', 'Garfield', 'Hull', 'Egan', 'Manton', 'Malleson', 'Bunting', 'Type', 'Survey', 'Elaine', 'Corsair', 'Koorang', 'Stillman', 'Kimber', 'Dickmann', 'Neptune', 'Jika', 'Botherambo', 'Longfield', 'Sanders', 'Birch', 'Burgess', 'Hosie', 'Peers', 'Abinger', 'Rowell', 'Darvall', 'Lower', 'Ruthven', 'Grove', 'Rosanna', 'McCrae', 'Waiora', 'Greensborough', 'Invermay', 'Silk', 'Pole', 'emma', 'Pilgrim', 'Skipper', 'Seddon', 'thomson', 'webster', 'Staff', 'Gamon', 'Dorcas', 'Ferrars', 'Moray', 'Tribe', 'City', 'Lyell', 'Wells', 'Eastern', 'Fitzpatrick', 'Iffla', 'Coote', 'Sandilands', 'Domain', 'MacFarlan', 'Rockley', 'Tivoli', 'Malcolm', 'Marne', 'Clara', 'Mona', 'Witchwood', 'Motherwell', 'Stables', 'Adams', 'Avoca', 'Luxton', 'Millswyn', 'Argo', 'Barnsbury', 'Palermo', 'Ralston', 'Oban', 'Southbank', 'Dodds', 'Kavanagh', 'Whiteman', 'Coventry', 'Sturt', 'Riverside', 'McNeilage', 'Vernier', 'Hudsons', 'Watt', 'Kernot', 'Steel', 'Marine', 'Greeves', 'Gurner', 'Robe', 'Spenser', 'Acland', 'Charnwood', 'Crimea', 'Burnett', 'Blanche', 'Grey', 'Redan', 'Odessa', 'Hillsyde', 'Woolart', 'Glenview', 'Upland', 'Henshall', 'Mascoma', 'Fenacre', 'Lind', 'Marks', 'Prefect', 'Lebanon', 'Wendora', 'Willonga', 'Colclough', 'Barnard', 'Markstone', 'Mellor', 'Ritchie', 'Ardoyne', 'Snowden', 'Ernest', 'Hertford', 'Servante', 'Boreham', 'Benjamin', 'Couch', 'Kingaroy', 'Whitty', 'Cannon', 'Lorenz', 'Una', 'Brislington', 'Taunton', 'Mayo', 'robinson', 'Farnsworth', 'Gresford', 'Balcombe', 'Surman', 'Warwick', 'Lodden', 'Meadowbank', 'Phoenix', 'Isla', 'Metherall', 'Middlesex', 'Cary', 'Hassett', 'Prince', 'Ball', 'Westmoreland', 'Berkshire', 'Braim', 'Furlong', 'Rosewall', 'Sproul', 'Downing', 'Taniyha', 'Talintyre', 'Dalpura', 'Hilma', 'Iluka', 'Bardsley', 'Links', 'Clematis', 'Kenney', 'Myers', 'Glengala', 'Mapledene', 'Fern', 'Norton', 'Joan', 'Dalton', 'Killara', 'Ridgeway', 'Empress', 'Emslie', 'Salvatore', 'Smart', 'Apollo', 'Mayne', 'Day', 'Killeen', 'Warmington', 'Bambara', 'Corella', 'Armstrong', 'Mailey', 'Banool', 'Chestnut', 'Croydon', 'Guildford', 'Boisdale', 'Shepherd', 'Benson', 'Wharton', 'Everton', 'Bentley', 'Glendale', 'Broughton', 'Mont', 'Olyve', 'Alandale', 'Blackburn', 'Scheele', 'Edyvean', 'Scottsdale', 'Sydenham', 'Weybridge', 'Grovedale', 'Dellfield', 'Templestowe', 'Boonah', 'Corroboree', 'Glenair', 'Ironbark', 'Finn', 'Lynnwood', 'Tasker', 'Ruffey', 'Beacon', 'Buller', 'Astley', 'Killarney', 'Jeffrey', 'MacRobertson', 'Sassafras', 'Exeter', 'Horsfall', 'Olympus', 'Rosa', 'Rossmoyne', 'Kemp', 'Fyffe', 'Ballantyne', 'Gooch', 'Mansfield', 'Alston', 'Leinster', 'Lewis', 'Hammond', 'Myoora', 'Tahara', 'Ruabon', 'Tashinny', 'Berenice', 'Woorigoleen', 'Mathoura', 'Kyeamba', 'Mell', 'Warra', 'Leighton', 'Boandyne', 'Rosemar', 'Christine', 'Martins', 'Rosebud', 'Eamon', 'Rosemary', 'Lyon', 'Robern', 'Lena', 'Northwood', 'Castleton', 'Rutherford', 'Frensham', 'Longmuir', 'Sarong', 'Meagher', 'Temby', 'Ananda', 'Leafield', 'Papua', 'Castlereagh', 'Illoura', 'Marilyn', 'Powley', 'Jeffcott', 'Ireland', 'Roden', 'Freyer', 'Pasco', 'Twyford', 'Long', 'Verdon', 'Bates', 'Hannan', 'Coogee', 'Crofton', 'Proctor', 'Burbidge', 'Aitken', 'Merrett', 'Ellery', 'Macquarie', 'MacLean', 'Sandpiper', 'Kororoit', 'Inglis', 'McIlwrick', 'Nathan', 'Wrexham', 'Lewisham', 'Upton', 'Tarcoola', 'Ovata', 'Yallambie', 'Coleen', 'Longacres', 'Kurdian', 'Debra', 'Melliodora', 'Crew', 'Binalong', 'Marigolds', 'Amanda', 'Benbow', 'Sanderson', 'Tarrengower', 'Stephen', 'Adeney', 'Bishop', 'Goulburn', 'Pearce', 'Court', 'Cuming', 'Tongue', 'Free', 'Hawkhurst', 'Stanger', 'Buninyong', 'Bena', 'Gent', 'Ofarrell', 'Freame', 'Eirene', 'Ballard', 'Kidman', 'Castlemaine', 'Tenterden', 'Tuppen', 'Valencia', 'Aroona', 'Knight', 'Chisholm', 'Muldowney', 'Plunkett', 'Harrison', 'Nunan', 'Kingfisher', 'Lowan', 'Jarvie', 'Linden', 'Gibdon', 'Loyola', 'Bailey', 'Keown', 'Faraday', 'Bouverie', 'Grattan', 'Cardigan', 'Reeves', 'Neill', 'Palmerston', 'Dorrit', 'Vale', 'Powlett', 'Agnes', 'Clydebank', 'Ruby', 'Lovely', 'McBryde', 'Piper', 'Penn', 'Denys', 'Major', 'Mutton', 'Jukes', 'Shirley', 'Imaroo', 'Dowding', 'Lock', 'Syndal', 'Janice', 'Brockley', 'Lorne', 'Preston', 'Stanford', 'Selola', 'Dowling', 'Neave', 'Miami', 'Redfern', 'Harts', 'Mayston', 'Leura', 'Pleasant', 'Torring', 'Gillman', 'Jaques', 'Wiseman', 'Temple', 'Brookfield', 'Harcourt', 'Brown', 'Almay', 'Hawdon', 'Beverley', 'Bolden', 'Cleve', 'Adamson', 'Flora', 'Rotherwood', 'Warncliffe', 'Wilfred', 'Carmichael', 'Emu', 'Sunset', 'Gavin', 'Fidge', 'Bliburg', 'Dunne', 'Stymie', 'Oconnell', 'Clunes', 'Chirnside', 'Coronation', 'Kingsville', 'Gerald', 'Dalny', 'Toward', 'Bute', 'Rosella', 'Thaxted', 'Murrumbeena', 'Spark', 'Wahroongaa', 'Ardyne', 'Lydson', 'Brett', 'Donal', 'Innellan', 'Omama', 'Short', 'Bethell', 'Bewdley', 'Lillimur', 'Holloway', 'Ulupna', 'Blackshaw', 'Carcoola', 'Carlyon', 'Anthony', 'Devonshire', 'Rupert', 'Dongola', 'Stonemark', 'Elphinstone', 'Napoleon', 'Indwe', 'Khartoum', 'Fontein', 'Blandford', 'Hex', 'Busch', 'Gwelo', 'Beaumont', 'Richelieu', 'Dalworth', 'Delmont', 'Wyalong', 'Ridley', 'Burnewang', 'Maylands', 'Coolamon', 'Brisbane', 'Talmage', 'Selwyn', 'Gunnedah', 'Barclay', 'Paw', 'Houston', 'Manchester', 'Augusta', 'Culma', 'Hinton', 'Atherton', 'Burlington', 'Leroux', 'Eastgate', 'Hatter', 'Maryville', 'Cubitt', 'Gough', 'Kelso', 'Balmain', 'Harbour', 'Docklands', 'Lorimer', 'Greene', 'Saltley', 'Vernon', 'Boeing', 'Lockheed', 'Elysee', 'Buckland', 'Mooltan', 'Baroda', 'Mangalore', 'Simmons', 'Erebus', 'Collinson', 'Fosters', 'Spence', 'Gardenia', 'McIlwraith', 'Combermere', 'Rymill', 'Baldwin', 'Egerton', 'Sandown', 'Elliott', 'Yunki', 'Deutscher', 'Cortina', 'Camille', 'Lorgrove', 'Rookwood', 'Yeneda', 'Pavo', 'Sylvander', 'Delhi', 'Auckland', 'Plym', 'Melva', 'Blamey', 'Elswill', 'Delma', 'Camelia', 'Sweetland', 'Hinkler', 'Sedge', 'Meek', 'Yuille', 'Hayball', 'Blairgowrie', 'Clinton', 'Milliara', 'Bennie', 'Manallack', 'Leyden', 'Gear', 'Methven', 'Weigall', 'Duggan', 'Cadman', 'Shamrock', 'Howson', 'Allen', 'Colite', 'Mangan', 'Middleborough', 'Daniel', 'Mabel', 'Seville', 'Bellett', 'Crellin', 'Morey', 'Kintore', 'Moorhouse', 'Dower', 'Mangarra', 'Pigdon', 'Batesford', 'Turnbull', 'Ramsden', 'Beaumonde', 'Alice', 'Balloan', 'Beckwith', 'Galeka', 'Mashoobra', 'Easey', 'Otter', 'Ella', 'Adelle', 'Bayley', 'Overman', 'Jennifer', 'Hedley', 'Lowson', 'Woodside', 'Rowe', 'Rowen', 'Finch', 'Lithgow', 'Evell', 'Ila', 'Neil', 'Brand', 'Colvin', 'morang', 'Summerlea', 'Broomfield', 'Fairmount', 'Selwood', 'Leyte', 'Malahang', 'Tarakan', 'Ford', 'Robinhood', 'Rowan', 'Cecelia', 'Janet', 'Tuppal', 'Uvadale', 'Mawson', 'Davis', 'Old', 'Spurling', 'Chandlers', 'Chadstone', 'Quentin', 'Winton', 'Parade', 'Gawler', 'Corio', 'Ophir', 'Huntly', 'Merrimu', 'Packer', 'Breadalbane', 'Bunbury', 'Junction', 'Ryder', 'Teague', 'Kiama', 'Watsonia', 'Westgate', 'Mead', 'Morrah', 'Ann', 'Braeside', 'Bawden', 'Sims', 'Irma', 'Esplanade', 'Percival', 'Carthew', 'Evelyn', 'Robeson', 'McNamara', 'Greenock', 'Carson', 'Mais', 'Horton', 'Merrilands', 'Miranda', 'McGoun', 'Richmond', 'Haughton', 'Banyule', 'Cassell', 'Strathaird', 'Dundalk', 'Yewers', 'Plymouth', 'Foxcroft', 'Fremont', 'Jean', 'Airdrie', 'Strettle', 'Clapham', 'Kuranga', 'Dawn', 'Rockaway', 'Orana', 'Regis', 'Bungay', 'Daours', 'Margot', 'Braid', 'Dove', 'Stanhope', 'Electra', 'Jobson', 'Caspian', 'Kingshott', 'Jepson', 'Bromyard', 'Schild', 'Fielding', 'Vere', 'Lulie', 'Liberator', 'Pryton', 'Keppel', 'Cyril', 'Hargreaves', 'Daffodil', 'Bannister', 'Zagreb', 'Bradfield', 'Wakefield', 'Cooma', 'Lido', 'Dalgan', 'Kaybrook', 'Hick', 'Stephenson', 'Struan', 'Nicosia', 'Borlase', 'Adderley', 'Rainsford', 'Bazentin', 'Como', 'Wippa', 'Charman', 'Gladesville', 'Avebury', 'Lockwoods', 'Grimshaw', 'Amaroo', 'Kalista', 'Homebush', 'Eddy', 'Gascoyne', 'Toolondo', 'Cronin', 'Jack', 'Rasmussen', 'Aston', 'Brampton', 'Vision', 'Mundaring', 'Saxonwood', 'Bernarra', 'Starboard', 'Bible', 'Orbel', 'Greenfields', 'Grimwade', 'Simon', 'Will', 'Kars', 'Windoo', 'Poinciana', 'Sansom', 'Dolphin', 'Ogden', 'Patrick', 'Manatunga', 'Geum', 'Westmount', 'Bardia', 'Ebony', 'Sage', 'Marriot', 'Medina', 'Grandvalley', 'Turin', 'Daylily', 'Turramurra', 'Gillespie', 'Tanglewood', 'Benaroon', 'Greenham', 'Gretel', 'Coppice', 'Renaissance', 'Comeram', 'Henricks', 'Barloa', 'Main', 'Rattray', 'Bear', 'Chute', 'Holskamp', 'Huxtable', 'Maureen', 'Sunnyside', 'Hanley', 'Wardrop', 'Olwen', 'Springvale', 'Fleming', 'Crevelli', 'Inverness', 'Mines', 'Western', 'Jindalee', 'Ferncroft', 'Garnsworthy', 'Altyre', 'Bannermann', 'Heysen', 'Timins', 'Edna', 'Collenso', 'Skylark', 'Highlander', 'Shoppers', 'Government', 'Cabarita', 'Halls', 'Toumlin', 'Somes', 'Kramer', 'Retreat', 'Walwa', 'Alberta', 'Coghill', 'Sayers', 'Burley', 'Vanin', 'Dakara', 'Clairmont', 'Hancock', 'Fakenham', 'Kumala', 'Pindari', 'Reserve', 'Brewer', 'Third', 'Bondi', 'Briar', 'Scoresby', 'Vaucluse', 'Bown', 'Ashmore', 'Boase', 'Cooraminta', 'Rosser', 'Lilian', 'Hale', 'Woodsdale', 'Parton', 'Parkside', 'Walkers', 'Bosco', 'Mulkarra', 'Cavanagh', 'Shipston', 'Renver', 'Stan', 'Rolls', 'Danthonia', 'Benston', 'Allendale', 'Trende', 'Rhoden', 'Betula', 'Silver', 'Letchworth', 'Elton', 'Trafalgar', 'Waltham', 'Sandon', 'Monterey', 'Cam', 'Lockley', 'Whitmore', 'Cleveland', 'Dawe', 'Strang', 'Oakdene', 'Tarella', 'Hobsons', 'Casey', 'Nyora', 'Maireana', 'Clee', 'Tamar', 'Fairbank', 'Chicquita', 'Naples', 'Voltri', 'Brigden', 'Carlita', 'Eaglet', 'Parklea', 'Krone', 'Swayfield', 'Nangana', 'Thelma', 'Clayton', 'Arnott', 'Crispe', 'Pratt', 'Georges', 'Marwarra', 'Dandelion', 'Simmonds', 'Catherine', 'Galway', 'Alexis', 'Hawkstowe', 'Palfreyman', 'Cornish', 'Fairbairn', 'Kirribilli', 'Kings', 'Roper', 'Milne', 'Pamela', 'Bahama', 'Sellars', 'Carbon', 'Lyall', 'Pepino', 'Pitta', 'Wallara', 'Mickleham', 'Chancellor', 'Mullins', 'MacAlister', 'Merlow', 'McAlpine', 'Gaskell', 'Julie', 'Ursa', 'Beths', 'Mavho', 'Pleasance', 'Bemersyde', 'Red', 'Pope', 'Conrad', 'Diana', 'Barker', 'Darook', 'Martell', 'Daly', 'Waxman', 'Merryn', 'Zara', 'Carmody', 'Holbeach', 'Newhaven', 'Tarwarri', 'Goshawk', 'Alden', 'Panorama', 'Bridgewater', 'Jirrahlinga', 'Alfrick', 'Binbrook', 'Mulawa', 'Lobelia', 'Canopus', 'Silvana', 'Thea', 'Silverdale', 'Coolabah', 'Leane', 'Valonia', 'Davisson', 'Efficient', 'Longwood', 'Glebe', 'Carrick', 'Ellis', 'Kinnoull', 'Tulloch', 'Arkley', 'Turanga', 'Condor', 'Mowbray', 'Madigan', 'Austral', 'Tibrockney', 'Bowden', 'Beauford', 'Serica', 'Mark', 'Cyprus', 'Warrenwood', 'Glenauburn', 'Mandrel', 'Kym', 'Brennan', 'Albenca', 'Milan', 'Erskine', 'Randell', 'Bataba', 'Cowley', 'Hanlon', 'McDonald', 'Baily', 'Carrol', 'Cratloe', 'Waimarie', 'Adela', 'Excelsior', 'Merrill', 'Baillie', 'Balgonie', 'Saniky', 'Alern', 'Claudel', 'Tristania', 'Anchor', 'Sturdee', 'Highton', 'Avalon', 'Overall', 'Copelen', 'Cornhill', 'Contursi', 'Whiteley', 'Fiona', 'Overland', 'Oakwood', 'Downland', 'Huxley', 'Majdal', 'Duckham', 'Indra', 'McLennan', 'Myalla', 'Hartley', 'Peveril', 'Jacqueline', 'Hounslow', 'Wilks', 'Allnutt', 'Eunice', 'Tuck', 'Weatherall', 'Morton', 'Chinnock', 'Kensley', 'Perisher', 'Kaniva', 'Bess', 'Poole', 'Chadree', 'Dorrington', 'Shannon', 'Greendale', 'Octantis', 'Astelot', 'Progress', 'Wurruk', 'Almora', 'Berringa', 'Overport', 'Britten', 'Carnon', 'Nokuna', 'Perrumba', 'Yangoora', 'Ambleside', 'Barmah', 'Destination', 'Piccadilly', 'Grout', 'Small', 'Seaton', 'Timele', 'Antwerp', 'Thornhill', 'Hedgeley', 'Maxwell', 'Mephan', 'Navarre', 'Brooklyn', 'Apsley', 'Development', 'Patmore', 'Mitcham', 'Tourello', 'Sherbourne', 'Dactyl', 'Lea', 'Conley', 'Lynette', 'Barina', 'Greta', 'Willowtree', 'Shanley', 'Ivy', 'Oakover', 'Byfield', 'Kelverne', 'McColl', 'Woodlawn', 'Yorkshire', 'Bluegum', 'Kellbourne', 'Galilee', 'Clowes', 'Sullivan', 'Lovell', 'Annan', 'Dena', 'Gertrude', 'Tharratt', 'Carinya', 'Hartland', 'Reynella', 'Terrara', 'Deauville', 'Riverpark', 'Darvell', 'Sirius', 'Rita', 'Purnell', 'Mill', 'Burton', 'Columba', 'Clifford', 'Bodley', 'Bristol', 'Thana', 'Greystoke', 'Thornley', 'Iona', 'Academy', 'Cranberry', 'Cherrill', 'Tussock', 'Tyne', 'Matlock', 'Maysia', 'Parlington', 'Pelham', 'Trafford', 'Tattenham', 'Stone', 'Dewrang', 'Kayden', 'Greenridge', 'Jaguar', 'Hadkinson', 'Andover', 'Healey', 'Huntington', 'Abraham', 'Wildberry', 'Baringa', 'Blazey', 'Ballina', 'Livingston', 'Drum', 'Eureka', 'Dianne', 'Yileen', 'Edithvale', 'Parnell', 'Beard', 'Souter', 'Weidlich', 'Cabot', 'Chettam', 'Hayston', 'Orlit', 'Supply', 'Lytham', 'Utah', 'Glenice', 'Bolton', 'Clare', 'Greenvale', 'Taormina', 'Mikado', 'Tatterson', 'Marian', 'Dresden', 'Chris', 'Bellbridge', 'Branton', 'Dunk', 'Hayden', 'Kelwin', 'Lisa', 'Bessell', 'Gerona', 'Carey', 'Markhill', 'Mistletoe', 'McKimmies', 'Gilda', 'Nicholls', 'Musk', 'Becker', 'Forster', 'Owen', 'Sunninghill', 'Aanensen', 'Airlie', 'Beattie', 'Kirwana', 'Gwynne', 'Wadham', 'Winbourne', 'Morawa', 'Pearl', 'Mather', 'Moodemere', 'Falshaws', 'Whalley', 'Morden', 'Springfield', 'Leumear', 'Newham', 'Eighth', 'Hawke', 'Surf', 'Cynga', 'Wall', 'Strathallyn', 'Riviera', 'Hawksburn', 'Derham', 'Erinne', 'McLeod', 'Plane', 'Stable', 'Burvale', 'Finningley', 'Glenfern', 'MacOrna', 'Meakin', 'Hosking', 'Edina', 'Yumbarra', 'Highridge', 'Templewood', 'Lidgett', 'Balston', 'Geranium', 'Sunview', 'Sylvia', 'Darwin', 'Enderby', 'Outer', 'Gleniffer', 'Katandra', 'Stenhouse', 'Fourth', 'Sartori', 'Gumleaf', 'Beena', 'Cosy', 'Cranwell', 'Dargi', 'Hawksbury', 'Whimbrel', 'Hiscock', 'Harlington', 'Nareen', 'Aspera', 'Taylors', 'Chifley', 'Waranga', 'Cavendish', 'Belvoir', 'Cormorant', 'Marjorie', 'Monet', 'Raven', 'Sunray', 'Zurzolo', 'Clendon', 'Aquarius', 'Hoadley', 'Belmont', 'Narbethong', 'Wolangi', 'Fraserburgh', 'Lysterfield', 'Frawley', 'Eldon', 'Pound', 'Buna', 'Haynes', 'Wolviston', 'Carn', 'Parramatta', 'Carbine', 'Randwick', 'Castella', 'Goodenia', 'Atkin', 'Bittern', 'Brindisi', 'Derwent', 'Heritage', 'Mew', 'Mockridge', 'Romano', 'Woolnough', 'Richards', 'Grandison', 'Kingswood', 'Mummery', 'Oakern', 'Catesby', 'Collingwood', 'Shady', 'Stamford', 'Nonna', 'Murumba', 'Sinclair', 'Tangyes', 'Acheron', 'Daleglen', 'Kerang', 'Jacks', 'Yvette', 'Reilly', 'Cobblestone', 'Kestrel', 'Kumara', 'Rolain', 'Aspen', 'Perrett', 'McComb', 'Mudie', 'Kinnane', 'Drinkwater', 'Claire', 'Echo', 'Athenry', 'Clays', 'Sophora', 'Dakota', 'Theodore', 'Romek', 'Westmeadows', 'Pach', 'Huntley', 'Brookville', 'Sherrin', 'Devenish', 'Duncan', 'Aminya', 'Creswell', 'President', 'Sheppard', 'Myrnong', 'Wildoer', 'Cavell', 'Pellatt', 'Carmel', 'Edith', 'Ellaswood', 'Whitton', 'Hibiscus', 'Boyce', 'Glendora', 'MacFarland', 'Coromandel', 'Penderel', 'Carrolls', 'Cher', 'Wisteria', 'Worrall', 'Japonica', 'Halley', 'Golding', 'Leeds', 'Holywood', 'Millicent', 'Talba', 'Masters', 'Dundee', 'Brownfield', 'Meadowgate', 'Boree', 'Bottlebrush', 'Consort', 'Springhill', 'Monteith', 'Karingal', 'Clow', 'Orgill', 'Wayland', 'Tame', 'Higgins', 'Blossom', 'Kirton', 'Colric', 'Brigantia', 'Brownlow', 'Combe', 'Garth', 'Peppercorn', 'Banchory', 'Hesleden', 'Beaurepaire', 'Kilmore', 'Audrey', 'Ventich', 'Caithness', 'Loongana', 'Booyan', 'Atunga', 'Viviani', 'Glenbruar', 'Berberis', 'Etka', 'Tregarron', 'Wimba', 'Scotch', 'Narebar', 'Edgars', 'Coonil', 'Haywood', 'Dallas', 'Vasari', 'Grand', 'Diane', 'Winterset', 'Forsyth', 'Liley', 'Gillon', 'Hicks', 'Seventh', 'Valerie', 'Hewett', 'Broadhurst', 'Clinnick', 'Dyson', 'Gertz', 'Felix', 'Charlbury', 'Kilburn', 'Stockyard', 'Welford', 'Fastnet', 'Hawtin', 'Serpells', 'Templemore', 'Timothy', 'Wynnewood', 'Marcus', 'Natalie', 'Manhattan', 'Coltain', 'Sherlowe', 'Eclipse', 'Gossamer', 'Tylden', 'Garnett', 'Jensen', 'Kooringa', 'Rindlebrook', 'Lowe', 'Carling', 'Stapley', 'Winmalee', 'Kalawar', 'Cootamundra', 'Hirst', 'Masons', 'Gosford', 'Tranmere', 'Woorayl', 'Abbington', 'McMillan', 'Cradle', 'Berger', 'Pyalong', 'Tarnook', 'Powers', 'Crimson', 'Meruka', 'Centurion', 'Lyndarum', 'Nuthall', 'Saddlers', 'Woodvale', 'McCulloch', 'Bryden', 'Tantani', 'Towerhill', 'Rodney', 'Fernhill', 'Stowe', 'Warralong', 'Warruga', 'Santolin', 'Don', 'Mossfiel', 'Feathertop', 'Cromer', 'Nandeen', 'Granite', 'Noga', 'Watersedge', 'Sarissa', 'Willard', 'Village', 'Cassinia', 'Hermitage', 'Papworth', 'Buckmaster', 'Malua', 'Whernside', 'Vernal', 'Looker', 'Wooded', 'Kunzea', 'Sesame', 'Glencairn', 'Franleigh', 'Carmen', 'Mons', 'Bird', 'Swift', 'Risdon', 'School', 'McKenzie', 'Henrietta', 'Toorang', 'Sunbeam', 'Beachview', 'Metcalf', 'McFadzean', 'Hylton', 'Wallingford', 'Reading', 'Rosslyn', 'Seaford', 'Kallista', 'Craigielea', 'Lester', 'Covala', 'Barnes', 'Champa', 'Cowes', 'Mantaura', 'Woolton', 'Broadmeadows', 'Stud', 'Fossickers', 'Cassowary', 'Tower', 'Eyre', 'Edenvale', 'Afton', 'Cain', 'McLaughlin', 'Vannam', 'Ebb', 'Tedstone', 'Benina', 'Northgate', 'Russel', 'Holberry', 'First', 'Cheadle', 'Lynden', 'Walden', 'Nancy', 'Crozier', 'Heytesbury', 'Penhall', 'Serenity', 'Virtue', 'Heatherton', 'Buchan', 'Abercairn', 'Barley', 'Lisbeth', 'Kanooka', 'Ivan', 'Anglers', 'Greer', 'Yuluma', 'Blaxland', 'Avonhurst', 'Kirstina', 'Granville', 'Bullanoo', 'Simmington', 'Exon', 'Barnet', 'Saronvale', 'Burge', 'Dummett', 'Bletchley', 'Carberry', 'Greenhills', 'Millewa', 'Cavalry', 'Denny', 'Westmelton', 'Streeton', 'Beaufort', 'Therese', 'Goble', 'Marna', 'Loxton', 'Knox', 'Sang', 'Almands', 'Vigo', 'Strathoon', 'Claremont', 'Gwent', 'Gruner', 'Noble', 'Ralph', 'Roseleigh', 'Bradman', 'Cobram', 'Vive', 'Bloomsbury', 'Wentworth', 'Hillhouse', 'Saville', 'Marjory', 'Tintern', 'Allanfield', 'Centenary', 'Flourish', 'Hooker', 'Ord', 'Timbarra', 'Troup', 'Reynolds', 'Tindales', 'Coniston', 'Elinga', 'Chelsey', 'Roycroft', 'Burroughs', 'Dee', 'Bonanza', 'Monaco', 'Goodrich', 'Juliana', 'Jane', 'Travellyn', 'Katunga', 'Pinrush', 'Cohuna', 'Westbury', 'Ellsworth', 'Risley', 'Whatley', 'Pinewood', 'Crana', 'Rebecca', 'Elliminya', 'Dare', 'Delta', 'Peterson', 'Shore', 'Olympic', 'Willmott', 'Cumquat', 'Glenora', 'County', 'Wilsons', 'Gaudion', 'Morello', 'Runnymede', 'Sandover', 'Fugosia', 'Carlsberg', 'Highpoint', 'Ramptons', 'Denton', 'Dunster', 'Lotus', 'Manley', 'Wedge', 'Vervale', 'McIver', 'Ormonde', 'Margate', 'McAlister', 'Wirilda', 'Cowrie', 'McKenna', 'Glenwood', 'Jillian', 'Jade', 'Viridian', 'Fox', 'Snow', 'Raheen', 'Cadow', 'Faoro', 'Dunvegan', 'Gianna', 'Dutton', 'Manson', 'Linlithgow', 'Jasmine', 'Medlar', 'Peyton', 'Wenden', 'Wortley', 'Bevis', 'Grainger', 'Tottenham', 'Weeroona', 'Dunblane', 'Curie', 'Nerissa', 'Sherbrooke', 'Pardy', 'Boathaven', 'Yuruga', 'Toolangi', 'Lockton', 'Moira', 'Kubis', 'Centaurus', 'McKinley', 'Sheridan', 'Duff', 'Reno', 'Catron', 'Hayman', 'Noordenne', 'Loveridge', 'Muirfield', 'Marchant', 'Melaleuca', 'Belah', 'Tanjil', 'Dunbarton', 'Mariemont', 'Kirrum', 'Witken', 'Conquest', 'Tarneit', 'Bamford', 'Pershore', 'Ondine', 'Sherwin', 'Saltlake', 'Vicars', 'Wanbrow', 'Huntingdon', 'Viewgrand', 'Merle', 'Shafer', 'Binnie', 'Bicknell', 'Glenn', 'Moreton', 'Paringa', 'Oakes', 'Woiwurung', 'Thorpdale', 'Gateshead', 'Vinter', 'Tavistock', 'Selby', 'Echuca', 'Bulong', 'Galloway', 'Ambrose', 'Avocet', 'Aria', 'Kelway', 'Kya', 'Hocking', 'Heathcote', 'Petrie', 'Diosma', 'Dava', 'Koonalda', 'Snaefell', 'Kardinia', 'Callaghan', 'Hubert', 'Rutherglen', 'Worcester', 'Dunbar', 'Gillwell', 'Nebel', 'Carmelo', 'Adori', 'Carina', 'Borrowdale', 'Marrbridge', 'Doull', 'Haverbrack', 'Shaw', 'Kershaw', 'Danin', 'Fongeo', 'Asquith', 'Ipswich', 'Lister', 'Vaughan', 'Pukaki', 'Cotoneaster', 'Highwood', 'Dubbo', 'Bianca', 'Herod', 'Relowe', 'Lynne', 'Kite', 'Ardwick', 'Goodwin', 'Joseph', 'Middleton', 'Dunn', 'Everett', 'Narrumburn', 'Abercarn', 'Bateman', 'Shelford', 'Chippewa', 'Bower', 'Kirkland', 'Rufus', 'Greenaway', 'Parklands', 'Morilla', 'Hampstead', 'Herriotts', 'Maude', 'Scotland', 'Epping', 'Portsmouth', 'Westmore', 'Bedingham', 'Truro', 'Coleman', 'Edsall', 'Leonardo', 'Rosehill', 'Dunlavin', 'Tirana', 'Caper', 'Valias', 'Alameda', 'Ian', 'Heron', 'Colchester', 'Sandringham', 'Trentham', 'Manyung', 'Mitchells', 'Perceval', 'Broadwater', 'Walpa', 'Lehmanns', 'Wigan', 'Cranbrook', 'Beuron', 'Haydens', 'Lockwood', 'Yaralla', 'Furness', 'Newberry', 'Leonie', 'Glengarry', 'Medhurst', 'Kasouka', 'Lofty', 'Belsize', 'Mernda', 'Brumbys', 'Benkel', 'Scotsburn', 'Ester', 'Kewarren', 'Ryland', 'Ravenwoods', 'Venetian', 'Hovell', 'Fromhold', 'Hakea', 'Joyce', 'Fleetwood', 'Wyralla', 'Gatis', 'Posy', 'Keiller', 'Lonsdale', 'Allenby', 'Doynton', 'Matthew', 'McCormack', 'Wunnamurra', 'Windella', 'Woodlands', 'Woolcock', 'Everest', 'Broome', 'Allwyn', 'Mayfield', 'Taree', 'Valadero', 'Churinga', 'Reys', 'Illuka', 'Pascall', 'Hansworth', 'Orion', 'Sneddon', 'Evan', 'Lyonsville', 'Botha', 'Loddon', 'Bigola', 'Unsworth', 'Devlin', 'Jennings', 'Armin', 'Briarwood', 'Melton', 'Newmans', 'Alison', 'Marina', 'Country', 'Danaher', 'Mingana', 'Manfred', 'Tedesco', 'Meadowbrook', 'Bushlark', 'Angelique', 'Yandilla', 'Fortuna', 'Hillview', 'Minerva', 'Greenglade', 'Harwood', 'Electric', 'Meredith', 'Amberley', 'Saturn', 'Harpley', 'Shadwell', 'Dyer', 'Brookedge', 'Eve', 'Mareeba', 'Pembury', 'Vantage', 'Viewside', 'Blackley', 'Gedye', 'Standring', 'Woodfull', 'Kirby', 'Central', 'Gretana', 'Helvetia', 'Faircroft', 'Cherry', 'Justin', 'Marigold', 'Train', 'Castlewellan', 'Hendricks', 'Limestone', 'Stockmans', 'Ramsay', 'Regina', 'Delmare', 'Karma', 'Etherington', 'Carroll', 'Huntingtower', 'Jackman', 'Liston', 'Lucille', 'Rossiter', 'McArthurs', 'Cullen', 'Lindy', 'Caravelle', 'Plante', 'Artemis', 'Canary', 'Coonawarra', 'Shearers', 'Weeden', 'Jedem', 'Priscilla', 'Speers', 'Briardale', 'Fahey', 'Hedgerow', 'Spicer', 'Mahon', 'Crete', 'Begonia', 'Skye', 'Merricks', 'Brack', 'Glenmorgan', 'Stanthorp', 'Sugarloaf', 'Wiringa', 'Salford', 'Wannan', 'Blackbird', 'Waterview', 'Aminga', 'Webster', 'Christie', 'Adina', 'Shale', 'Rowallan', 'Rove', 'Kinross', 'Dransfield', 'Plover', 'Derinya', 'Payne', 'Finton', 'Nicol', 'Moffatt', 'Sunshine', 'Wexford', 'Allawah', 'Bataan', 'Huskisson', 'Merlyn', 'Haddon', 'Marlo', 'Vain', 'Hardwood', 'Bulga', 'Ormiston', 'Susan', 'Brookland', 'Caledonia', 'Lola', 'Hardwicke', 'Bingley', 'Highland', 'Remy', 'Arundel', 'Heape', 'Jenolan', 'Thorndon', 'Allumba', 'Frampton', 'Bournian', 'Ligar', 'Paperbark', 'Ponsford', 'Redgum', 'Amore', 'Honeyeater', 'Salvana', 'Yanchep', 'Democrat', 'Howqua', 'Templeton', 'Cathies', 'Jonathon', 'Seine', 'Plato', 'Wattleglade', 'Maryston', 'Burt', 'Aquila', 'Kalonga', 'Sassella', 'Fir', 'Wreford', 'Norwich', 'Cabernet', 'Fydler', 'Aylwin', 'Eley', 'Uganda', 'Broderick', 'Tasman', 'Oakpark', 'Brolga', 'Snowdon', 'Tarago', 'Norval', 'Majestic', 'Northcliffe', 'Foster', 'Lowalde', 'Trumper', 'Barter', 'Tonmar', 'Huon', 'Banks', 'Viva', 'Duranta', 'McDowell', 'Tangari', 'Vermont', 'Sybil', 'Abbotswood', 'Judkins', 'Turfan', 'Diorite', 'Heatherlea', 'Pumice', 'Regency', 'Second', 'Kotiko', 'Ikara', 'Ashdown', 'Kingsway', 'Pindara', 'Northbrook', 'Canadian', 'Orient', 'Purches', 'Stephensons', 'Stoneyfell', 'Manoel', 'Loughnan', 'Gellion', 'millgrove', 'Moonstone', 'Collegian', 'Fullbrook', 'Stewarts', 'Appleby', 'Mudford', 'Hathaway', 'Airds', 'Nurlendi', 'Winswood', 'chesterfield', 'Armagh', 'Mara', 'Nuragi', 'Strada']\n"
     ]
    }
   ],
   "source": [
    "print(address_name)"
   ]
  },
  {
   "cell_type": "code",
   "execution_count": 103,
   "metadata": {},
   "outputs": [],
   "source": [
    "# suburb_treshold = 100\n",
    "# below_suburb_treshold = []\n",
    "# above_suburb_treshold = []\n",
    "# suburb_counts = data['Suburb'].value_counts()\n",
    "# # print(suburb_counts.describe())\n",
    "# # print(suburb_counts['Reservoir'])\n",
    "# for s_count in suburb_counts.iteritems():\n",
    "#     if s_count[1] < suburb_treshold:\n",
    "#         below_suburb_treshold.append(s_count[0])\n",
    "# # print(below_suburb_treshold)\n",
    "# data['Suburb_Misc'] = data['Suburb'].map(lambda x: 1 if x in below_suburb_treshold else 0)\n",
    "\n",
    "# for suburb in data['Suburb'].unique().tolist():\n",
    "#     if suburb not in below_suburb_treshold: \n",
    "#         above_suburb_treshold.append(suburb)\n",
    "#         data[suburb] = data['Suburb'].map(lambda x: 1 if x == suburb else 0)"
   ]
  },
  {
   "cell_type": "code",
   "execution_count": 96,
   "metadata": {},
   "outputs": [],
   "source": [
    "    # data = pd.concat([data, pd.get_dummies(data['SellerG'])], axis=1)\n",
    "    # seller_g_treshold = 100\n",
    "    # below_seller_g_treshold = []\n",
    "    # above_seller_g_treshold = []\n",
    "    # seller_g_counts = data['SellerG'].value_counts()\n",
    "    # for sg_count in seller_g_counts.iteritems():\n",
    "    #     if sg_count[1] < seller_g_treshold:\n",
    "    #         below_seller_g_treshold.append(sg_count[0])\n",
    "    # # print(below_suburb_treshold)\n",
    "    # data['SellerG_Misc'] = data['SellerG'].map(lambda x: 1 if x in below_seller_g_treshold else 0)\n",
    "\n",
    "    # for sg in data['SellerG'].unique().tolist():\n",
    "    #     if sg not in below_seller_g_treshold: \n",
    "    #         above_seller_g_treshold.append(sg)\n",
    "    #         data[sg] = data['SellerG'].map(lambda x: 1 if x == sg else 0)"
   ]
  },
  {
   "cell_type": "code",
   "execution_count": 265,
   "metadata": {},
   "outputs": [
    {
     "data": {
      "text/html": [
       "<div>\n",
       "<style>\n",
       "    .dataframe thead tr:only-child th {\n",
       "        text-align: right;\n",
       "    }\n",
       "\n",
       "    .dataframe thead th {\n",
       "        text-align: left;\n",
       "    }\n",
       "\n",
       "    .dataframe tbody tr th {\n",
       "        vertical-align: top;\n",
       "    }\n",
       "</style>\n",
       "<table border=\"1\" class=\"dataframe\">\n",
       "  <thead>\n",
       "    <tr style=\"text-align: right;\">\n",
       "      <th></th>\n",
       "      <th>Type</th>\n",
       "      <th>Type</th>\n",
       "    </tr>\n",
       "  </thead>\n",
       "  <tbody>\n",
       "    <tr>\n",
       "      <th>0</th>\n",
       "      <td>h</td>\n",
       "      <td>0</td>\n",
       "    </tr>\n",
       "    <tr>\n",
       "      <th>1</th>\n",
       "      <td>h</td>\n",
       "      <td>0</td>\n",
       "    </tr>\n",
       "    <tr>\n",
       "      <th>2</th>\n",
       "      <td>h</td>\n",
       "      <td>0</td>\n",
       "    </tr>\n",
       "    <tr>\n",
       "      <th>3</th>\n",
       "      <td>h</td>\n",
       "      <td>0</td>\n",
       "    </tr>\n",
       "    <tr>\n",
       "      <th>4</th>\n",
       "      <td>h</td>\n",
       "      <td>0</td>\n",
       "    </tr>\n",
       "  </tbody>\n",
       "</table>\n",
       "</div>"
      ],
      "text/plain": [
       "   Type  Type\n",
       "0     h     0\n",
       "1     h     0\n",
       "2     h     0\n",
       "3     h     0\n",
       "4     h     0"
      ]
     },
     "execution_count": 265,
     "metadata": {},
     "output_type": "execute_result"
    }
   ],
   "source": [
    "data['Type'].head()"
   ]
  },
  {
   "cell_type": "code",
   "execution_count": 254,
   "metadata": {},
   "outputs": [],
   "source": [
    "features = data['SellerG'].unique().tolist() \\\n",
    "+ ['Car', \n",
    "   'YearBuilt', 'Rooms', 'BuildingArea'\n",
    "   'Distance', \n",
    "   'Postcode', \n",
    "   'Bathroom', 'Bedroom2', 'Propertycount', 'Longtitude', 'Lattitude', 'Landsize'] \\\n",
    "+ address_name \\\n",
    "+ data['Suburb'].unique().tolist() \\\n",
    "+ data['Method'].unique().tolist() \\\n",
    "# + data['Type'].unique().tolist() \\\n",
    "# + data['Regionname'].unique().tolist() \\\n",
    "# + data['CouncilArea'].unique().tolist()\n",
    "target = ['Price']"
   ]
  },
  {
   "cell_type": "code",
   "execution_count": 232,
   "metadata": {},
   "outputs": [],
   "source": [
    "train_X, test_X, train_y, test_y = model_selection.train_test_split(data[features], data[target], random_state=0)"
   ]
  },
  {
   "cell_type": "code",
   "execution_count": 233,
   "metadata": {},
   "outputs": [],
   "source": [
    "# define models\n",
    "decision_tree_model = tree.DecisionTreeRegressor(max_depth=11)\n",
    "random_forest_model = ensemble.RandomForestRegressor()"
   ]
  },
  {
   "cell_type": "code",
   "execution_count": 234,
   "metadata": {},
   "outputs": [
    {
     "data": {
      "text/plain": [
       "RandomForestRegressor(bootstrap=True, criterion='mse', max_depth=None,\n",
       "           max_features='auto', max_leaf_nodes=None,\n",
       "           min_impurity_split=1e-07, min_samples_leaf=1,\n",
       "           min_samples_split=2, min_weight_fraction_leaf=0.0,\n",
       "           n_estimators=10, n_jobs=1, oob_score=False, random_state=None,\n",
       "           verbose=0, warm_start=False)"
      ]
     },
     "execution_count": 234,
     "metadata": {},
     "output_type": "execute_result"
    }
   ],
   "source": [
    "# fit models\n",
    "decision_tree_model.fit(train_X, train_y['Price'].tolist())\n",
    "random_forest_model.fit(train_X,  train_y['Price'].tolist())"
   ]
  },
  {
   "cell_type": "code",
   "execution_count": 235,
   "metadata": {},
   "outputs": [
    {
     "name": "stdout",
     "output_type": "stream",
     "text": [
      "train accuracy: (decision tree): 90.869% (random forest tree) 96.470%\n",
      "test accuracy: (decision tree): 64.825% (random forest tree) 77.254%\n"
     ]
    }
   ],
   "source": [
    "# compare socores\n",
    "decision_tree_train_acc = decision_tree_model.score(train_X, train_y['Price'].tolist())*100\n",
    "decision_tree_test_acc = decision_tree_model.score(test_X, test_y['Price'].tolist())*100\n",
    "random_forest_train_acc = random_forest_model.score(train_X, train_y['Price'].tolist())*100\n",
    "random_forest_test_acc = random_forest_model.score(test_X, test_y['Price'].tolist())*100\n",
    "print(\"train accuracy: (decision tree): {:.3f}% (random forest tree) {:.3f}%\".format(decision_tree_train_acc, random_forest_train_acc))\n",
    "print(\"test accuracy: (decision tree): {:.3f}% (random forest tree) {:.3f}%\".format(decision_tree_test_acc, random_forest_test_acc))"
   ]
  },
  {
   "cell_type": "code",
   "execution_count": 220,
   "metadata": {},
   "outputs": [
    {
     "name": "stdout",
     "output_type": "stream",
     "text": [
      "test accuracy: (decision tree): 15.811% (random forest tree) 15.810%\n",
      "test accuracy: (decision tree): 15.811% (random forest tree) 15.810%\n",
      "test accuracy: (decision tree): 15.811% (random forest tree) 17.695%\n",
      "test accuracy: (decision tree): 15.811% (random forest tree) 19.065%\n",
      "test accuracy: (decision tree): 15.811% (random forest tree) 20.045%\n",
      "test accuracy: (decision tree): 15.811% (random forest tree) 20.297%\n",
      "test accuracy: (decision tree): 37.085% (random forest tree) 37.088%\n",
      "test accuracy: (decision tree): 37.085% (random forest tree) 37.088%\n",
      "test accuracy: (decision tree): 37.085% (random forest tree) 39.160%\n",
      "test accuracy: (decision tree): 37.085% (random forest tree) 39.295%\n",
      "test accuracy: (decision tree): 37.085% (random forest tree) 40.852%\n",
      "test accuracy: (decision tree): 37.085% (random forest tree) 41.049%\n",
      "test accuracy: (decision tree): 49.960% (random forest tree) 52.031%\n",
      "test accuracy: (decision tree): 49.960% (random forest tree) 52.031%\n",
      "test accuracy: (decision tree): 49.960% (random forest tree) 52.169%\n",
      "test accuracy: (decision tree): 49.960% (random forest tree) 52.444%\n",
      "test accuracy: (decision tree): 56.538% (random forest tree) 58.595%\n",
      "test accuracy: (decision tree): 56.538% (random forest tree) 58.595%\n",
      "test accuracy: (decision tree): 56.538% (random forest tree) 59.642%\n",
      "test accuracy: (decision tree): 61.277% (random forest tree) 64.034%\n",
      "test accuracy: (decision tree): 61.277% (random forest tree) 64.034%\n",
      "test accuracy: (decision tree): 61.277% (random forest tree) 64.090%\n",
      "test accuracy: (decision tree): 61.277% (random forest tree) 65.246%\n",
      "test accuracy: (decision tree): 64.190% (random forest tree) 68.291%\n",
      "test accuracy: (decision tree): 64.190% (random forest tree) 68.291%\n",
      "test accuracy: (decision tree): 64.190% (random forest tree) 68.380%\n",
      "test accuracy: (decision tree): 64.190% (random forest tree) 68.898%\n",
      "test accuracy: (decision tree): 66.011% (random forest tree) 71.099%\n",
      "test accuracy: (decision tree): 66.011% (random forest tree) 71.099%\n",
      "test accuracy: (decision tree): 66.172% (random forest tree) 71.200%\n",
      "test accuracy: (decision tree): 66.172% (random forest tree) 71.200%\n",
      "test accuracy: (decision tree): 65.987% (random forest tree) 71.451%\n",
      "test accuracy: (decision tree): 65.987% (random forest tree) 71.464%\n",
      "test accuracy: (decision tree): 66.203% (random forest tree) 70.797%\n",
      "test accuracy: (decision tree): 66.200% (random forest tree) 72.869%\n",
      "test accuracy: (decision tree): 66.239% (random forest tree) 73.019%\n",
      "test accuracy: (decision tree): 66.239% (random forest tree) 73.019%\n",
      "test accuracy: (decision tree): 66.291% (random forest tree) 72.698%\n",
      "test accuracy: (decision tree): 66.354% (random forest tree) 72.655%\n",
      "test accuracy: (decision tree): 66.180% (random forest tree) 73.056%\n",
      "test accuracy: (decision tree): 66.139% (random forest tree) 73.072%\n",
      "test accuracy: (decision tree): 66.399% (random forest tree) 73.343%\n",
      "test accuracy: (decision tree): 66.399% (random forest tree) 73.343%\n",
      "test accuracy: (decision tree): 67.046% (random forest tree) 74.690%\n",
      "test accuracy: (decision tree): 67.046% (random forest tree) 74.690%\n",
      "test accuracy: (decision tree): 66.532% (random forest tree) 74.908%\n",
      "test accuracy: (decision tree): 67.105% (random forest tree) 73.766%\n",
      "test accuracy: (decision tree): 67.139% (random forest tree) 74.374%\n",
      "test accuracy: (decision tree): 65.214% (random forest tree) 75.054%\n",
      "test accuracy: (decision tree): 65.800% (random forest tree) 75.645%\n",
      "test accuracy: (decision tree): 65.385% (random forest tree) 75.746%\n",
      "test accuracy: (decision tree): 64.755% (random forest tree) 76.633%\n",
      "test accuracy: (decision tree): 64.258% (random forest tree) 77.093%\n",
      "test accuracy: (decision tree): 63.940% (random forest tree) 77.337%\n"
     ]
    }
   ],
   "source": [
    "max_acc_tree = 0\n",
    "max_acc_rftree = 0\n",
    "for max_depth in range(1, 19):\n",
    "    for max_leaf_nodes in range(-10, 0):\n",
    "        dt_mod = tree.DecisionTreeRegressor(max_depth=max_depth, max_leaf_nodes=max_leaf_nodes)\n",
    "        rftree_mod = ensemble.RandomForestRegressor(max_depth=max_depth, max_leaf_nodes=max_leaf_nodes)\n",
    "        tree_acc = dt_mod.fit(train_X, train_y['Price'].tolist()).score(test_X, test_y['Price'])\n",
    "        rftree_acc = rftree_mod.fit(train_X, train_y['Price']).score(test_X, test_y['Price'])\n",
    "        if max_acc_tree<tree_acc:\n",
    "            max_acc_tree = tree_acc\n",
    "            print(\"test accuracy: (decision tree): {:.3f}% (random forest tree) {:.3f}%\".format(tree_acc*100, rftree_acc*100))  \n",
    "        if max_acc_rftree<rftree_acc:\n",
    "            max_acc_rftree = rftree_acc\n",
    "            print(\"test accuracy: (decision tree): {:.3f}% (random forest tree) {:.3f}%\".format(tree_acc*100, rftree_acc*100))  "
   ]
  },
  {
   "cell_type": "code",
   "execution_count": null,
   "metadata": {},
   "outputs": [],
   "source": []
  }
 ],
 "metadata": {
  "kernelspec": {
   "display_name": "Python 3",
   "language": "python",
   "name": "python3"
  },
  "language_info": {
   "codemirror_mode": {
    "name": "ipython",
    "version": 3
   },
   "file_extension": ".py",
   "mimetype": "text/x-python",
   "name": "python",
   "nbconvert_exporter": "python",
   "pygments_lexer": "ipython3",
   "version": "3.6.2rc1"
  }
 },
 "nbformat": 4,
 "nbformat_minor": 2
}
